{
 "cells": [
  {
   "cell_type": "markdown",
   "metadata": {},
   "source": [
    "# Variance, Correlation, and Grouping\n",
    "Notebook for checking out ranges and doing various correlation, grouping, and PCA things."
   ]
  },
  {
   "cell_type": "markdown",
   "metadata": {},
   "source": [
    "## Imports\n",
    "Needed Libraries"
   ]
  },
  {
   "cell_type": "code",
   "execution_count": 59,
   "metadata": {},
   "outputs": [],
   "source": [
    "import pandas as pd\n",
    "import numpy as np\n",
    "import matplotlib\n",
    "\n",
    "import matplotlib.pyplot as plt\n",
    "from sklearn.preprocessing import StandardScaler\n",
    "from sklearn.decomposition import PCA"
   ]
  },
  {
   "cell_type": "markdown",
   "metadata": {},
   "source": [
    "## Data Load\n",
    "Getting Datasets"
   ]
  },
  {
   "cell_type": "code",
   "execution_count": 3,
   "metadata": {},
   "outputs": [],
   "source": [
    "#Load in relevant cleaned datasets\n",
    "df = pd.read_csv(\"../data/dataframe.csv\").set_index(\"fips\").dropna()\n",
    "fips = pd.read_csv(\"../data/fips.csv\").set_index(\"fips\")"
   ]
  },
  {
   "cell_type": "markdown",
   "metadata": {},
   "source": [
    "## Min, Max, Range, Mean, Variance\n",
    "For getting a look at the min, max, and range, mean, and variance of some of these quantitative variables"
   ]
  },
  {
   "cell_type": "markdown",
   "metadata": {},
   "source": [
    "### Broadband\n",
    "Let's get a look at the values of broadband"
   ]
  },
  {
   "cell_type": "code",
   "execution_count": 8,
   "metadata": {},
   "outputs": [],
   "source": [
    "broadband_max = df[\"broadband\"].max()\n",
    "broadband_min = df[\"broadband\"].min()\n",
    "broadband_range = broadband_max - broadband_min\n",
    "broadband_mean = df[\"broadband\"].mean()\n",
    "broadband_var = df[\"broadband\"].var()"
   ]
  },
  {
   "cell_type": "code",
   "execution_count": 9,
   "metadata": {},
   "outputs": [
    {
     "data": {
      "text/plain": [
       "0.9584921479999999"
      ]
     },
     "execution_count": 9,
     "metadata": {},
     "output_type": "execute_result"
    }
   ],
   "source": [
    "broadband_max"
   ]
  },
  {
   "cell_type": "code",
   "execution_count": 10,
   "metadata": {},
   "outputs": [
    {
     "data": {
      "text/plain": [
       "0.30899998500000003"
      ]
     },
     "execution_count": 10,
     "metadata": {},
     "output_type": "execute_result"
    }
   ],
   "source": [
    "broadband_min"
   ]
  },
  {
   "cell_type": "code",
   "execution_count": 11,
   "metadata": {},
   "outputs": [
    {
     "data": {
      "text/plain": [
       "0.6494921629999999"
      ]
     },
     "execution_count": 11,
     "metadata": {},
     "output_type": "execute_result"
    }
   ],
   "source": [
    "broadband_range"
   ]
  },
  {
   "cell_type": "code",
   "execution_count": 12,
   "metadata": {},
   "outputs": [
    {
     "data": {
      "text/plain": [
       "0.6653498150671031"
      ]
     },
     "execution_count": 12,
     "metadata": {},
     "output_type": "execute_result"
    }
   ],
   "source": [
    "broadband_mean"
   ]
  },
  {
   "cell_type": "code",
   "execution_count": 13,
   "metadata": {},
   "outputs": [
    {
     "data": {
      "text/plain": [
       "0.011156617485237169"
      ]
     },
     "execution_count": 13,
     "metadata": {},
     "output_type": "execute_result"
    }
   ],
   "source": [
    "broadband_var"
   ]
  },
  {
   "cell_type": "markdown",
   "metadata": {},
   "source": [
    "As Expected of a value that represents the percentage of households with broadband internet access. These stay between 0 and 1. However, there doesn't seem to be a large amount of variance. So we should also give a look at it's distribution. (See below)"
   ]
  },
  {
   "cell_type": "markdown",
   "metadata": {},
   "source": [
    "### Unemployment Rate"
   ]
  },
  {
   "cell_type": "code",
   "execution_count": 15,
   "metadata": {},
   "outputs": [],
   "source": [
    "unemployment_max = df[\"unemployment_rate\"].max()\n",
    "unemployment_min = df[\"unemployment_rate\"].min()\n",
    "unemployment_range = unemployment_max - unemployment_min\n",
    "unemployment_mean = df[\"unemployment_rate\"].mean()\n",
    "unemployment_var = df[\"unemployment_rate\"].var()"
   ]
  },
  {
   "cell_type": "code",
   "execution_count": 16,
   "metadata": {},
   "outputs": [
    {
     "data": {
      "text/plain": [
       "18.3"
      ]
     },
     "execution_count": 16,
     "metadata": {},
     "output_type": "execute_result"
    }
   ],
   "source": [
    "unemployment_max"
   ]
  },
  {
   "cell_type": "code",
   "execution_count": 17,
   "metadata": {},
   "outputs": [
    {
     "data": {
      "text/plain": [
       "1.4"
      ]
     },
     "execution_count": 17,
     "metadata": {},
     "output_type": "execute_result"
    }
   ],
   "source": [
    "unemployment_min"
   ]
  },
  {
   "cell_type": "code",
   "execution_count": 18,
   "metadata": {},
   "outputs": [
    {
     "data": {
      "text/plain": [
       "16.900000000000002"
      ]
     },
     "execution_count": 18,
     "metadata": {},
     "output_type": "execute_result"
    }
   ],
   "source": [
    "unemployment_range"
   ]
  },
  {
   "cell_type": "code",
   "execution_count": 19,
   "metadata": {},
   "outputs": [
    {
     "data": {
      "text/plain": [
       "3.989382795011183"
      ]
     },
     "execution_count": 19,
     "metadata": {},
     "output_type": "execute_result"
    }
   ],
   "source": [
    "unemployment_mean"
   ]
  },
  {
   "cell_type": "code",
   "execution_count": 20,
   "metadata": {},
   "outputs": [
    {
     "data": {
      "text/plain": [
       "2.071224411002656"
      ]
     },
     "execution_count": 20,
     "metadata": {},
     "output_type": "execute_result"
    }
   ],
   "source": [
    "unemployment_var"
   ]
  },
  {
   "cell_type": "markdown",
   "metadata": {},
   "source": [
    "Unemployment, also a rate, seems to have a smaller range of values."
   ]
  },
  {
   "cell_type": "markdown",
   "metadata": {},
   "source": [
    "### Median House Income"
   ]
  },
  {
   "cell_type": "code",
   "execution_count": 29,
   "metadata": {},
   "outputs": [],
   "source": [
    "income_max = df[\"median_house_income\"].max()\n",
    "income_min = df[\"median_house_income\"].min()\n",
    "income_range = income_max - income_min\n",
    "income_mean = df[\"median_house_income\"].mean()\n",
    "income_var = df[\"median_house_income\"].var()"
   ]
  },
  {
   "cell_type": "code",
   "execution_count": 22,
   "metadata": {},
   "outputs": [
    {
     "data": {
      "text/plain": [
       "140382.0"
      ]
     },
     "execution_count": 22,
     "metadata": {},
     "output_type": "execute_result"
    }
   ],
   "source": [
    "income_max"
   ]
  },
  {
   "cell_type": "code",
   "execution_count": 23,
   "metadata": {},
   "outputs": [
    {
     "data": {
      "text/plain": [
       "25385.0"
      ]
     },
     "execution_count": 23,
     "metadata": {},
     "output_type": "execute_result"
    }
   ],
   "source": [
    "income_min "
   ]
  },
  {
   "cell_type": "code",
   "execution_count": 24,
   "metadata": {},
   "outputs": [
    {
     "data": {
      "text/plain": [
       "114997.0"
      ]
     },
     "execution_count": 24,
     "metadata": {},
     "output_type": "execute_result"
    }
   ],
   "source": [
    "income_range"
   ]
  },
  {
   "cell_type": "code",
   "execution_count": 25,
   "metadata": {},
   "outputs": [
    {
     "data": {
      "text/plain": [
       "52771.05500479693"
      ]
     },
     "execution_count": 25,
     "metadata": {},
     "output_type": "execute_result"
    }
   ],
   "source": [
    "income_mean"
   ]
  },
  {
   "cell_type": "code",
   "execution_count": 30,
   "metadata": {},
   "outputs": [
    {
     "data": {
      "text/plain": [
       "192111376.46082535"
      ]
     },
     "execution_count": 30,
     "metadata": {},
     "output_type": "execute_result"
    }
   ],
   "source": [
    "income_var"
   ]
  },
  {
   "cell_type": "markdown",
   "metadata": {},
   "source": [
    "We also get roughly expected values for median house income. Albeit, the variance here indicates that some scaling will be required for certain analyses."
   ]
  },
  {
   "cell_type": "markdown",
   "metadata": {},
   "source": [
    "### Poverty for all age groups and for people between the ages of 0 and 17"
   ]
  },
  {
   "cell_type": "code",
   "execution_count": 31,
   "metadata": {},
   "outputs": [],
   "source": [
    "poverty_max = df[\"poverty_percentage\"].max()\n",
    "poverty_min = df[\"poverty_percentage\"].min()\n",
    "poverty_range = poverty_max - poverty_min\n",
    "poverty_mean = df[\"poverty_percentage\"].mean()\n",
    "poverty_var = df[\"poverty_percentage\"].var()"
   ]
  },
  {
   "cell_type": "code",
   "execution_count": 32,
   "metadata": {},
   "outputs": [],
   "source": [
    "poverty0_17_max = df[\"poverty_percentage_0-17\"].max()\n",
    "poverty0_17_min = df[\"poverty_percentage_0-17\"].min()\n",
    "poverty0_17_range = poverty0_17_max - poverty0_17_min\n",
    "poverty0_17_mean = df[\"poverty_percentage_0-17\"].mean()\n",
    "poverty0_17_var = df[\"poverty_percentage_0-17\"].var()"
   ]
  },
  {
   "cell_type": "code",
   "execution_count": 33,
   "metadata": {},
   "outputs": [
    {
     "data": {
      "text/plain": [
       "48.4"
      ]
     },
     "execution_count": 33,
     "metadata": {},
     "output_type": "execute_result"
    }
   ],
   "source": [
    "poverty_max"
   ]
  },
  {
   "cell_type": "code",
   "execution_count": 34,
   "metadata": {},
   "outputs": [
    {
     "data": {
      "text/plain": [
       "2.6"
      ]
     },
     "execution_count": 34,
     "metadata": {},
     "output_type": "execute_result"
    }
   ],
   "source": [
    "poverty_min"
   ]
  },
  {
   "cell_type": "code",
   "execution_count": 35,
   "metadata": {},
   "outputs": [
    {
     "data": {
      "text/plain": [
       "45.8"
      ]
     },
     "execution_count": 35,
     "metadata": {},
     "output_type": "execute_result"
    }
   ],
   "source": [
    "poverty_range"
   ]
  },
  {
   "cell_type": "code",
   "execution_count": 36,
   "metadata": {},
   "outputs": [
    {
     "data": {
      "text/plain": [
       "15.159354013431425"
      ]
     },
     "execution_count": 36,
     "metadata": {},
     "output_type": "execute_result"
    }
   ],
   "source": [
    "poverty_mean"
   ]
  },
  {
   "cell_type": "code",
   "execution_count": 37,
   "metadata": {},
   "outputs": [
    {
     "data": {
      "text/plain": [
       "36.93009721532532"
      ]
     },
     "execution_count": 37,
     "metadata": {},
     "output_type": "execute_result"
    }
   ],
   "source": [
    "poverty_var"
   ]
  },
  {
   "cell_type": "code",
   "execution_count": 38,
   "metadata": {},
   "outputs": [
    {
     "data": {
      "text/plain": [
       "68.3"
      ]
     },
     "execution_count": 38,
     "metadata": {},
     "output_type": "execute_result"
    }
   ],
   "source": [
    "poverty0_17_max"
   ]
  },
  {
   "cell_type": "code",
   "execution_count": 39,
   "metadata": {},
   "outputs": [
    {
     "data": {
      "text/plain": [
       "2.5"
      ]
     },
     "execution_count": 39,
     "metadata": {},
     "output_type": "execute_result"
    }
   ],
   "source": [
    "poverty0_17_min"
   ]
  },
  {
   "cell_type": "code",
   "execution_count": 40,
   "metadata": {},
   "outputs": [
    {
     "data": {
      "text/plain": [
       "65.8"
      ]
     },
     "execution_count": 40,
     "metadata": {},
     "output_type": "execute_result"
    }
   ],
   "source": [
    "poverty0_17_range"
   ]
  },
  {
   "cell_type": "code",
   "execution_count": 41,
   "metadata": {},
   "outputs": [
    {
     "data": {
      "text/plain": [
       "21.107259354013433"
      ]
     },
     "execution_count": 41,
     "metadata": {},
     "output_type": "execute_result"
    }
   ],
   "source": [
    "poverty0_17_mean"
   ]
  },
  {
   "cell_type": "code",
   "execution_count": 42,
   "metadata": {},
   "outputs": [
    {
     "data": {
      "text/plain": [
       "78.7263484365526"
      ]
     },
     "execution_count": 42,
     "metadata": {},
     "output_type": "execute_result"
    }
   ],
   "source": [
    "poverty0_17_var"
   ]
  },
  {
   "cell_type": "markdown",
   "metadata": {},
   "source": [
    "We'll also need to scale values for percentage of people living in poverty as well as perhaps only using one of these"
   ]
  },
  {
   "cell_type": "markdown",
   "metadata": {},
   "source": [
    "## Distribution\n",
    "For looking at classification distributions"
   ]
  },
  {
   "cell_type": "markdown",
   "metadata": {},
   "source": [
    "### Education\n",
    "With each education statistic there is limited value to the regression of that statistic to other datapoints. Thus, there are two options to think of in terms of label classification. The first is a simple max classification. Thus, we classify this as 1, 2, 3, or 4 based upon which educational advantage was maxed. The other is a scoring system which multiplies it's percentage by that 1-4 classification to give a score that regression can be performed against."
   ]
  },
  {
   "cell_type": "markdown",
   "metadata": {},
   "source": [
    "#### Max Classification\n",
    "* 1 for highest percentage being below high school\n",
    "* 2 for highest percentage being high school graduation\n",
    "* 3 for highest percentage being some college\n",
    "* 4 for highest percentage being college graduation"
   ]
  },
  {
   "cell_type": "code",
   "execution_count": 4,
   "metadata": {},
   "outputs": [],
   "source": [
    "def max_classifier(less_high, high, some_coll, coll):\n",
    "    lst = [less_high, high, some_coll, coll]\n",
    "    return lst.index(max(lst)) + 1"
   ]
  },
  {
   "cell_type": "code",
   "execution_count": 5,
   "metadata": {},
   "outputs": [],
   "source": [
    "max_edu_label = df.apply(lambda x: max_classifier(x.perc_less_highschool, x.perc_highschool, x.perc_some_college, x.perc_college), axis=1)"
   ]
  },
  {
   "cell_type": "markdown",
   "metadata": {},
   "source": [
    "Let's get a visualization of this distribution"
   ]
  },
  {
   "cell_type": "code",
   "execution_count": 9,
   "metadata": {},
   "outputs": [
    {
     "data": {
      "text/html": [
       "<div>\n",
       "<style scoped>\n",
       "    .dataframe tbody tr th:only-of-type {\n",
       "        vertical-align: middle;\n",
       "    }\n",
       "\n",
       "    .dataframe tbody tr th {\n",
       "        vertical-align: top;\n",
       "    }\n",
       "\n",
       "    .dataframe thead th {\n",
       "        text-align: right;\n",
       "    }\n",
       "</style>\n",
       "<table border=\"1\" class=\"dataframe\">\n",
       "  <thead>\n",
       "    <tr style=\"text-align: right;\">\n",
       "      <th></th>\n",
       "      <th>0</th>\n",
       "    </tr>\n",
       "  </thead>\n",
       "  <tbody>\n",
       "    <tr>\n",
       "      <th>2</th>\n",
       "      <td>1821</td>\n",
       "    </tr>\n",
       "    <tr>\n",
       "      <th>3</th>\n",
       "      <td>874</td>\n",
       "    </tr>\n",
       "    <tr>\n",
       "      <th>4</th>\n",
       "      <td>392</td>\n",
       "    </tr>\n",
       "    <tr>\n",
       "      <th>1</th>\n",
       "      <td>40</td>\n",
       "    </tr>\n",
       "  </tbody>\n",
       "</table>\n",
       "</div>"
      ],
      "text/plain": [
       "      0\n",
       "2  1821\n",
       "3   874\n",
       "4   392\n",
       "1    40"
      ]
     },
     "execution_count": 9,
     "metadata": {},
     "output_type": "execute_result"
    }
   ],
   "source": [
    "max_edu_label_val = max_edu_label.value_counts().to_frame()\n",
    "max_edu_label_val"
   ]
  },
  {
   "cell_type": "code",
   "execution_count": 13,
   "metadata": {},
   "outputs": [
    {
     "data": {
      "text/plain": [
       "<AxesSubplot:xlabel='labels'>"
      ]
     },
     "execution_count": 13,
     "metadata": {},
     "output_type": "execute_result"
    },
    {
     "data": {
      "image/png": "[encoded data removed]",
      "text/plain": [
       "<Figure size 432x288 with 1 Axes>"
      ]
     },
     "metadata": {
      "needs_background": "light"
     },
     "output_type": "display_data"
    }
   ],
   "source": [
    "labels = [\"high school grad\", \"some college\", \"college grad\", \"some high school\"]\n",
    "barplot_max_edu_label = pd.DataFrame({'labels': labels, 'counts': max_edu_label_val[0]})\n",
    "barplot_max_edu_label.plot.bar(x='labels', y='counts', rot=0)"
   ]
  },
  {
   "cell_type": "markdown",
   "metadata": {},
   "source": [
    "This is pretty insightful. And it kinda points to a flaw in turning this into a classification problem as this is not a particularly balanced dataset. Let's see if creating a score does any better."
   ]
  },
  {
   "cell_type": "markdown",
   "metadata": {},
   "source": [
    "#### Score Classification\n",
    "Take the numbers of max classification and sum them multiplied by their percentage"
   ]
  },
  {
   "cell_type": "code",
   "execution_count": 15,
   "metadata": {},
   "outputs": [],
   "source": [
    "def score_classifier(less_high, high, some_coll, coll):\n",
    "    return (less_high + (2 * high) + (3 * some_coll) + (4 * coll)) / 100"
   ]
  },
  {
   "cell_type": "code",
   "execution_count": 16,
   "metadata": {},
   "outputs": [],
   "source": [
    "score_edu_label = df.apply(lambda x: score_classifier(x.perc_less_highschool, x.perc_highschool, x.perc_some_college, x.perc_college), axis=1)"
   ]
  },
  {
   "cell_type": "code",
   "execution_count": 19,
   "metadata": {},
   "outputs": [
    {
     "data": {
      "text/plain": [
       "array([[<AxesSubplot:title={'center':'Educational Score Distribution'}>]],\n",
       "      dtype=object)"
      ]
     },
     "execution_count": 19,
     "metadata": {},
     "output_type": "execute_result"
    },
    {
     "data": {
      "image/png": "[encoded data removed]",
      "text/plain": [
       "<Figure size 432x288 with 1 Axes>"
      ]
     },
     "metadata": {
      "needs_background": "light"
     },
     "output_type": "display_data"
    }
   ],
   "source": [
    "score_edu_frame = pd.DataFrame()\n",
    "score_edu_frame[\"Educational Score Distribution\"] = score_edu_label\n",
    "score_edu_frame.hist(bins = 16)"
   ]
  },
  {
   "cell_type": "markdown",
   "metadata": {},
   "source": [
    "This looks like a fairly normal distribution and we'll probably use this in creation of models and looking for significant statistical relationships. For now let's call this the education score."
   ]
  },
  {
   "cell_type": "markdown",
   "metadata": {},
   "source": [
    "### Broadband\n",
    "We can also take a loot at broadband distributions via histograms"
   ]
  },
  {
   "cell_type": "code",
   "execution_count": 20,
   "metadata": {},
   "outputs": [
    {
     "data": {
      "text/plain": [
       "array([[<AxesSubplot:title={'center':'broadband'}>]], dtype=object)"
      ]
     },
     "execution_count": 20,
     "metadata": {},
     "output_type": "execute_result"
    },
    {
     "data": {
      "image/png": "[encoded data removed]",
      "text/plain": [
       "<Figure size 432x288 with 1 Axes>"
      ]
     },
     "metadata": {
      "needs_background": "light"
     },
     "output_type": "display_data"
    }
   ],
   "source": [
    "df[[\"broadband\"]].hist(bins=20)"
   ]
  },
  {
   "cell_type": "markdown",
   "metadata": {},
   "source": [
    "This does seem to be fairly normal with some local maxima at higher percentages but it is overall looking pretty usable"
   ]
  },
  {
   "cell_type": "markdown",
   "metadata": {},
   "source": [
    "### Urbanization"
   ]
  },
  {
   "cell_type": "code",
   "execution_count": 21,
   "metadata": {},
   "outputs": [
    {
     "data": {
      "text/plain": [
       "array([[<AxesSubplot:title={'center':'urbanization_class'}>]],\n",
       "      dtype=object)"
      ]
     },
     "execution_count": 21,
     "metadata": {},
     "output_type": "execute_result"
    },
    {
     "data": {
      "image/png": "[encoded data removed]",
      "text/plain": [
       "<Figure size 432x288 with 1 Axes>"
      ]
     },
     "metadata": {
      "needs_background": "light"
     },
     "output_type": "display_data"
    }
   ],
   "source": [
    "df[[\"urbanization_class\"]].hist(bins=6)"
   ]
  },
  {
   "cell_type": "code",
   "execution_count": 22,
   "metadata": {},
   "outputs": [
    {
     "data": {
      "text/plain": [
       "urbanization_class\n",
       "6.0                   1323\n",
       "5.0                    641\n",
       "3.0                    372\n",
       "2.0                    367\n",
       "4.0                    357\n",
       "1.0                     67\n",
       "dtype: int64"
      ]
     },
     "execution_count": 22,
     "metadata": {},
     "output_type": "execute_result"
    }
   ],
   "source": [
    "df[[\"urbanization_class\"]].value_counts()"
   ]
  },
  {
   "cell_type": "markdown",
   "metadata": {},
   "source": [
    "The urbanization classification also presents an interesting problem as it's very much unbalanced and skewed towards there being a larger amount of rural places than urban. We can keep this but it is interesting"
   ]
  },
  {
   "cell_type": "markdown",
   "metadata": {},
   "source": [
    "### Poverty\n",
    "Let's see if poverty rate seems more useful via whole population or just of age 0-17"
   ]
  },
  {
   "cell_type": "code",
   "execution_count": 23,
   "metadata": {},
   "outputs": [
    {
     "data": {
      "text/plain": [
       "array([[<AxesSubplot:title={'center':'poverty_percentage'}>]],\n",
       "      dtype=object)"
      ]
     },
     "execution_count": 23,
     "metadata": {},
     "output_type": "execute_result"
    },
    {
     "data": {
      "image/png": "[encoded data removed]",
      "text/plain": [
       "<Figure size 432x288 with 1 Axes>"
      ]
     },
     "metadata": {
      "needs_background": "light"
     },
     "output_type": "display_data"
    }
   ],
   "source": [
    "df[[\"poverty_percentage\"]].hist(bins=20)"
   ]
  },
  {
   "cell_type": "code",
   "execution_count": 24,
   "metadata": {},
   "outputs": [
    {
     "data": {
      "text/plain": [
       "array([[<AxesSubplot:title={'center':'poverty_percentage_0-17'}>]],\n",
       "      dtype=object)"
      ]
     },
     "execution_count": 24,
     "metadata": {},
     "output_type": "execute_result"
    },
    {
     "data": {
      "image/png": "[encoded data removed]",
      "text/plain": [
       "<Figure size 432x288 with 1 Axes>"
      ]
     },
     "metadata": {
      "needs_background": "light"
     },
     "output_type": "display_data"
    }
   ],
   "source": [
    "df[[\"poverty_percentage_0-17\"]].hist(bins=20)"
   ]
  },
  {
   "cell_type": "markdown",
   "metadata": {},
   "source": [
    "There's not much to garner from these. They're both normal distributions. Poverty rates for those 0-17 seem to be more spread out though."
   ]
  },
  {
   "cell_type": "markdown",
   "metadata": {},
   "source": [
    "## Correlation\n",
    "Data correlation matrices"
   ]
  },
  {
   "cell_type": "code",
   "execution_count": 25,
   "metadata": {},
   "outputs": [],
   "source": [
    "#First Let's make a new set of dataframes for correlation\n",
    "df_corr = df\n",
    "df_corr[\"edu_score\"] = score_edu_label"
   ]
  },
  {
   "cell_type": "code",
   "execution_count": 27,
   "metadata": {},
   "outputs": [
    {
     "data": {
      "text/html": [
       "<div>\n",
       "<style scoped>\n",
       "    .dataframe tbody tr th:only-of-type {\n",
       "        vertical-align: middle;\n",
       "    }\n",
       "\n",
       "    .dataframe tbody tr th {\n",
       "        vertical-align: top;\n",
       "    }\n",
       "\n",
       "    .dataframe thead th {\n",
       "        text-align: right;\n",
       "    }\n",
       "</style>\n",
       "<table border=\"1\" class=\"dataframe\">\n",
       "  <thead>\n",
       "    <tr style=\"text-align: right;\">\n",
       "      <th></th>\n",
       "      <th>broadband</th>\n",
       "      <th>perc_less_highschool</th>\n",
       "      <th>perc_highschool</th>\n",
       "      <th>perc_some_college</th>\n",
       "      <th>perc_college</th>\n",
       "      <th>unemployment_rate</th>\n",
       "      <th>median_house_income</th>\n",
       "      <th>urbanization_class</th>\n",
       "      <th>poverty_percentage</th>\n",
       "      <th>poverty_percentage_0-17</th>\n",
       "      <th>edu_score</th>\n",
       "    </tr>\n",
       "  </thead>\n",
       "  <tbody>\n",
       "    <tr>\n",
       "      <th>broadband</th>\n",
       "      <td>1.000000</td>\n",
       "      <td>-0.477714</td>\n",
       "      <td>-0.512254</td>\n",
       "      <td>0.124391</td>\n",
       "      <td>0.643752</td>\n",
       "      <td>-0.266776</td>\n",
       "      <td>0.667774</td>\n",
       "      <td>-0.601662</td>\n",
       "      <td>-0.534832</td>\n",
       "      <td>-0.577468</td>\n",
       "      <td>0.648179</td>\n",
       "    </tr>\n",
       "    <tr>\n",
       "      <th>perc_less_highschool</th>\n",
       "      <td>-0.477714</td>\n",
       "      <td>1.000000</td>\n",
       "      <td>0.249938</td>\n",
       "      <td>-0.485483</td>\n",
       "      <td>-0.596502</td>\n",
       "      <td>0.348893</td>\n",
       "      <td>-0.534972</td>\n",
       "      <td>0.201324</td>\n",
       "      <td>0.657217</td>\n",
       "      <td>0.674333</td>\n",
       "      <td>-0.824389</td>\n",
       "    </tr>\n",
       "    <tr>\n",
       "      <th>perc_highschool</th>\n",
       "      <td>-0.512254</td>\n",
       "      <td>0.249938</td>\n",
       "      <td>1.000000</td>\n",
       "      <td>-0.279324</td>\n",
       "      <td>-0.776847</td>\n",
       "      <td>0.252409</td>\n",
       "      <td>-0.537826</td>\n",
       "      <td>0.381327</td>\n",
       "      <td>0.290021</td>\n",
       "      <td>0.353294</td>\n",
       "      <td>-0.724709</td>\n",
       "    </tr>\n",
       "    <tr>\n",
       "      <th>perc_some_college</th>\n",
       "      <td>0.124391</td>\n",
       "      <td>-0.485483</td>\n",
       "      <td>-0.279324</td>\n",
       "      <td>1.000000</td>\n",
       "      <td>-0.010950</td>\n",
       "      <td>-0.150285</td>\n",
       "      <td>0.092397</td>\n",
       "      <td>0.071217</td>\n",
       "      <td>-0.321270</td>\n",
       "      <td>-0.297201</td>\n",
       "      <td>0.330765</td>\n",
       "    </tr>\n",
       "    <tr>\n",
       "      <th>perc_college</th>\n",
       "      <td>0.643752</td>\n",
       "      <td>-0.596502</td>\n",
       "      <td>-0.776847</td>\n",
       "      <td>-0.010950</td>\n",
       "      <td>1.000000</td>\n",
       "      <td>-0.344441</td>\n",
       "      <td>0.719382</td>\n",
       "      <td>-0.465665</td>\n",
       "      <td>-0.486641</td>\n",
       "      <td>-0.559671</td>\n",
       "      <td>0.925500</td>\n",
       "    </tr>\n",
       "    <tr>\n",
       "      <th>unemployment_rate</th>\n",
       "      <td>-0.266776</td>\n",
       "      <td>0.348893</td>\n",
       "      <td>0.252409</td>\n",
       "      <td>-0.150285</td>\n",
       "      <td>-0.344441</td>\n",
       "      <td>1.000000</td>\n",
       "      <td>-0.410773</td>\n",
       "      <td>0.150473</td>\n",
       "      <td>0.519860</td>\n",
       "      <td>0.520675</td>\n",
       "      <td>-0.388772</td>\n",
       "    </tr>\n",
       "    <tr>\n",
       "      <th>median_house_income</th>\n",
       "      <td>0.667774</td>\n",
       "      <td>-0.534972</td>\n",
       "      <td>-0.537826</td>\n",
       "      <td>0.092397</td>\n",
       "      <td>0.719382</td>\n",
       "      <td>-0.410773</td>\n",
       "      <td>1.000000</td>\n",
       "      <td>-0.523203</td>\n",
       "      <td>-0.771403</td>\n",
       "      <td>-0.796888</td>\n",
       "      <td>0.714662</td>\n",
       "    </tr>\n",
       "    <tr>\n",
       "      <th>urbanization_class</th>\n",
       "      <td>-0.601662</td>\n",
       "      <td>0.201324</td>\n",
       "      <td>0.381327</td>\n",
       "      <td>0.071217</td>\n",
       "      <td>-0.465665</td>\n",
       "      <td>0.150473</td>\n",
       "      <td>-0.523203</td>\n",
       "      <td>1.000000</td>\n",
       "      <td>0.300511</td>\n",
       "      <td>0.313759</td>\n",
       "      <td>-0.397110</td>\n",
       "    </tr>\n",
       "    <tr>\n",
       "      <th>poverty_percentage</th>\n",
       "      <td>-0.534832</td>\n",
       "      <td>0.657217</td>\n",
       "      <td>0.290021</td>\n",
       "      <td>-0.321270</td>\n",
       "      <td>-0.486641</td>\n",
       "      <td>0.519860</td>\n",
       "      <td>-0.771403</td>\n",
       "      <td>0.300511</td>\n",
       "      <td>1.000000</td>\n",
       "      <td>0.931039</td>\n",
       "      <td>-0.615327</td>\n",
       "    </tr>\n",
       "    <tr>\n",
       "      <th>poverty_percentage_0-17</th>\n",
       "      <td>-0.577468</td>\n",
       "      <td>0.674333</td>\n",
       "      <td>0.353294</td>\n",
       "      <td>-0.297201</td>\n",
       "      <td>-0.559671</td>\n",
       "      <td>0.520675</td>\n",
       "      <td>-0.796888</td>\n",
       "      <td>0.313759</td>\n",
       "      <td>0.931039</td>\n",
       "      <td>1.000000</td>\n",
       "      <td>-0.671086</td>\n",
       "    </tr>\n",
       "    <tr>\n",
       "      <th>edu_score</th>\n",
       "      <td>0.648179</td>\n",
       "      <td>-0.824389</td>\n",
       "      <td>-0.724709</td>\n",
       "      <td>0.330765</td>\n",
       "      <td>0.925500</td>\n",
       "      <td>-0.388772</td>\n",
       "      <td>0.714662</td>\n",
       "      <td>-0.397110</td>\n",
       "      <td>-0.615327</td>\n",
       "      <td>-0.671086</td>\n",
       "      <td>1.000000</td>\n",
       "    </tr>\n",
       "  </tbody>\n",
       "</table>\n",
       "</div>"
      ],
      "text/plain": [
       "                         broadband  perc_less_highschool  perc_highschool  \\\n",
       "broadband                 1.000000             -0.477714        -0.512254   \n",
       "perc_less_highschool     -0.477714              1.000000         0.249938   \n",
       "perc_highschool          -0.512254              0.249938         1.000000   \n",
       "perc_some_college         0.124391             -0.485483        -0.279324   \n",
       "perc_college              0.643752             -0.596502        -0.776847   \n",
       "unemployment_rate        -0.266776              0.348893         0.252409   \n",
       "median_house_income       0.667774             -0.534972        -0.537826   \n",
       "urbanization_class       -0.601662              0.201324         0.381327   \n",
       "poverty_percentage       -0.534832              0.657217         0.290021   \n",
       "poverty_percentage_0-17  -0.577468              0.674333         0.353294   \n",
       "edu_score                 0.648179             -0.824389        -0.724709   \n",
       "\n",
       "                         perc_some_college  perc_college  unemployment_rate  \\\n",
       "broadband                         0.124391      0.643752          -0.266776   \n",
       "perc_less_highschool             -0.485483     -0.596502           0.348893   \n",
       "perc_highschool                  -0.279324     -0.776847           0.252409   \n",
       "perc_some_college                 1.000000     -0.010950          -0.150285   \n",
       "perc_college                     -0.010950      1.000000          -0.344441   \n",
       "unemployment_rate                -0.150285     -0.344441           1.000000   \n",
       "median_house_income               0.092397      0.719382          -0.410773   \n",
       "urbanization_class                0.071217     -0.465665           0.150473   \n",
       "poverty_percentage               -0.321270     -0.486641           0.519860   \n",
       "poverty_percentage_0-17          -0.297201     -0.559671           0.520675   \n",
       "edu_score                         0.330765      0.925500          -0.388772   \n",
       "\n",
       "                         median_house_income  urbanization_class  \\\n",
       "broadband                           0.667774           -0.601662   \n",
       "perc_less_highschool               -0.534972            0.201324   \n",
       "perc_highschool                    -0.537826            0.381327   \n",
       "perc_some_college                   0.092397            0.071217   \n",
       "perc_college                        0.719382           -0.465665   \n",
       "unemployment_rate                  -0.410773            0.150473   \n",
       "median_house_income                 1.000000           -0.523203   \n",
       "urbanization_class                 -0.523203            1.000000   \n",
       "poverty_percentage                 -0.771403            0.300511   \n",
       "poverty_percentage_0-17            -0.796888            0.313759   \n",
       "edu_score                           0.714662           -0.397110   \n",
       "\n",
       "                         poverty_percentage  poverty_percentage_0-17  \\\n",
       "broadband                         -0.534832                -0.577468   \n",
       "perc_less_highschool               0.657217                 0.674333   \n",
       "perc_highschool                    0.290021                 0.353294   \n",
       "perc_some_college                 -0.321270                -0.297201   \n",
       "perc_college                      -0.486641                -0.559671   \n",
       "unemployment_rate                  0.519860                 0.520675   \n",
       "median_house_income               -0.771403                -0.796888   \n",
       "urbanization_class                 0.300511                 0.313759   \n",
       "poverty_percentage                 1.000000                 0.931039   \n",
       "poverty_percentage_0-17            0.931039                 1.000000   \n",
       "edu_score                         -0.615327                -0.671086   \n",
       "\n",
       "                         edu_score  \n",
       "broadband                 0.648179  \n",
       "perc_less_highschool     -0.824389  \n",
       "perc_highschool          -0.724709  \n",
       "perc_some_college         0.330765  \n",
       "perc_college              0.925500  \n",
       "unemployment_rate        -0.388772  \n",
       "median_house_income       0.714662  \n",
       "urbanization_class       -0.397110  \n",
       "poverty_percentage       -0.615327  \n",
       "poverty_percentage_0-17  -0.671086  \n",
       "edu_score                 1.000000  "
      ]
     },
     "execution_count": 27,
     "metadata": {},
     "output_type": "execute_result"
    }
   ],
   "source": [
    "#Create a correlation matrix\n",
    "corr_matrix = df_corr.corr()\n",
    "corr_matrix"
   ]
  },
  {
   "cell_type": "code",
   "execution_count": 28,
   "metadata": {},
   "outputs": [
    {
     "data": {
      "text/plain": [
       "broadband                  0.648179\n",
       "perc_less_highschool      -0.824389\n",
       "perc_highschool           -0.724709\n",
       "perc_some_college          0.330765\n",
       "perc_college               0.925500\n",
       "unemployment_rate         -0.388772\n",
       "median_house_income        0.714662\n",
       "urbanization_class        -0.397110\n",
       "poverty_percentage        -0.615327\n",
       "poverty_percentage_0-17   -0.671086\n",
       "edu_score                  1.000000\n",
       "Name: edu_score, dtype: float64"
      ]
     },
     "execution_count": 28,
     "metadata": {},
     "output_type": "execute_result"
    }
   ],
   "source": [
    "#See correlation of edu score\n",
    "corr_matrix[\"edu_score\"]"
   ]
  },
  {
   "cell_type": "code",
   "execution_count": 29,
   "metadata": {},
   "outputs": [
    {
     "data": {
      "text/plain": [
       "broadband                  1.000000\n",
       "perc_less_highschool      -0.477714\n",
       "perc_highschool           -0.512254\n",
       "perc_some_college          0.124391\n",
       "perc_college               0.643752\n",
       "unemployment_rate         -0.266776\n",
       "median_house_income        0.667774\n",
       "urbanization_class        -0.601662\n",
       "poverty_percentage        -0.534832\n",
       "poverty_percentage_0-17   -0.577468\n",
       "edu_score                  0.648179\n",
       "Name: broadband, dtype: float64"
      ]
     },
     "execution_count": 29,
     "metadata": {},
     "output_type": "execute_result"
    }
   ],
   "source": [
    "#See correlation of broadband\n",
    "corr_matrix[\"broadband\"]"
   ]
  },
  {
   "cell_type": "markdown",
   "metadata": {},
   "source": [
    "We've generally seen some expected correlations that may support the hypothesis that there is an association of internet connectivity and educational performance as well as some other correlations that could be interesting or confounding. We'll need to t-test these but there is a fairly strong correlation between broadband connectivity and education score, on par with other shown statistics. The most interesting statistics to investigate currently with their correlation seem to be median house income and urbanization. "
   ]
  },
  {
   "cell_type": "markdown",
   "metadata": {},
   "source": [
    "## Grouping\n",
    "Designated to make some helpful visualizations based on grouping of data"
   ]
  },
  {
   "cell_type": "markdown",
   "metadata": {},
   "source": [
    "### Selected Axes\n",
    "We can pull out some interesting lists and see how they group based on features. We're mainly going to check this out with some of the more interesting correlations with broadband and education which were median house income and urbanization."
   ]
  },
  {
   "cell_type": "code",
   "execution_count": 48,
   "metadata": {},
   "outputs": [],
   "source": [
    "#lists\n",
    "broadband_list = df[\"broadband\"].tolist()\n",
    "income_list = df[\"median_house_income\"].tolist()\n",
    "max_edu_class = max_edu_label.tolist()\n",
    "score_edu_label_list = score_edu_label.tolist()\n",
    "urbanization_list = df[\"urbanization_class\"].tolist()\n",
    "colors = ['red','green','blue','purple']\n",
    "urbanization_colors = ['red','green','blue','purple','black','yellow']"
   ]
  },
  {
   "cell_type": "markdown",
   "metadata": {},
   "source": [
    "#### Broadband and Median House Income\n",
    "If we for instance want to see a scatter plot of broadband vs median house income"
   ]
  },
  {
   "cell_type": "code",
   "execution_count": 34,
   "metadata": {},
   "outputs": [
    {
     "data": {
      "text/plain": [
       "<matplotlib.collections.PathCollection at 0x7ffb9b1443c8>"
      ]
     },
     "execution_count": 34,
     "metadata": {},
     "output_type": "execute_result"
    },
    {
     "data": {
      "image/png": "[encoded data removed]",
      "text/plain": [
       "<Figure size 432x288 with 1 Axes>"
      ]
     },
     "metadata": {
      "needs_background": "light"
     },
     "output_type": "display_data"
    }
   ],
   "source": [
    "plt.scatter(broadband_list, income_list)"
   ]
  },
  {
   "cell_type": "markdown",
   "metadata": {},
   "source": [
    "What is ultimately more interesting is the groupings we can see within these scatter plots. Like for instance, broadband vs median house income classified by the max educational attainment percentage."
   ]
  },
  {
   "cell_type": "code",
   "execution_count": 49,
   "metadata": {},
   "outputs": [
    {
     "data": {
      "text/plain": [
       "<matplotlib.collections.PathCollection at 0x7ffb9aebf438>"
      ]
     },
     "execution_count": 49,
     "metadata": {},
     "output_type": "execute_result"
    },
    {
     "data": {
      "image/png": "[encoded data removed]",
      "text/plain": [
       "<Figure size 432x288 with 1 Axes>"
      ]
     },
     "metadata": {
      "needs_background": "light"
     },
     "output_type": "display_data"
    }
   ],
   "source": [
    "plt.scatter(broadband_list, income_list, c=max_edu_class,cmap=matplotlib.colors.ListedColormap(colors))"
   ]
  },
  {
   "cell_type": "markdown",
   "metadata": {},
   "source": [
    "With the order of educational attainment going, red then green then blue then purple, there seems to be an indication of a positive relationship between broadband connectivity and median house income and as both increase, the level of educational attainment grows."
   ]
  },
  {
   "cell_type": "markdown",
   "metadata": {},
   "source": [
    "#### Broadband and educational attainment score in the context of urbanization\n",
    "We can also see a scatter of broadband against educational attainment score"
   ]
  },
  {
   "cell_type": "code",
   "execution_count": 50,
   "metadata": {},
   "outputs": [
    {
     "data": {
      "text/plain": [
       "<matplotlib.collections.PathCollection at 0x7ffb9aea9668>"
      ]
     },
     "execution_count": 50,
     "metadata": {},
     "output_type": "execute_result"
    },
    {
     "data": {
      "image/png": "[encoded data removed]",
      "text/plain": [
       "<Figure size 432x288 with 1 Axes>"
      ]
     },
     "metadata": {
      "needs_background": "light"
     },
     "output_type": "display_data"
    }
   ],
   "source": [
    "plt.scatter(broadband_list, score_edu_label_list)"
   ]
  },
  {
   "cell_type": "markdown",
   "metadata": {},
   "source": [
    "It seems to have a fairly interesting relationship. Let's contextualize it with urbanization level."
   ]
  },
  {
   "cell_type": "code",
   "execution_count": 51,
   "metadata": {},
   "outputs": [
    {
     "data": {
      "text/plain": [
       "<matplotlib.collections.PathCollection at 0x7ffb9ae0d978>"
      ]
     },
     "execution_count": 51,
     "metadata": {},
     "output_type": "execute_result"
    },
    {
     "data": {
      "image/png": "[encoded data removed]",
      "text/plain": [
       "<Figure size 432x288 with 1 Axes>"
      ]
     },
     "metadata": {
      "needs_background": "light"
     },
     "output_type": "display_data"
    }
   ],
   "source": [
    "plt.scatter(broadband_list, score_edu_label_list, c=urbanization_list, cmap=matplotlib.colors.ListedColormap(urbanization_colors))"
   ]
  },
  {
   "cell_type": "markdown",
   "metadata": {},
   "source": [
    "This shows a fair bit of indication that the positive correlation of education score and broadband connectivity seems to correspond with an increase in urbanization perhaps to a point. Interestingly however, the highest tend to be of class 2 which correspond to the 2nd most dense metropolitan areas. I.e. they are not cities. Perhaps the use of one-hot vectors may help with regression analysis and pca."
   ]
  },
  {
   "cell_type": "markdown",
   "metadata": {},
   "source": [
    "### Principle Component Analysis\n",
    "It'll also be interesting to dimensionality reduce the dataset as a whole and see classifications on top of that plot"
   ]
  },
  {
   "cell_type": "code",
   "execution_count": 56,
   "metadata": {},
   "outputs": [
    {
     "name": "stderr",
     "output_type": "stream",
     "text": [
      "/usr/local/anaconda3/lib/python3.7/site-packages/ipykernel_launcher.py:2: SettingWithCopyWarning: \n",
      "A value is trying to be set on a copy of a slice from a DataFrame.\n",
      "Try using .loc[row_indexer,col_indexer] = value instead\n",
      "\n",
      "See the caveats in the documentation: https://pandas.pydata.org/pandas-docs/stable/user_guide/indexing.html#returning-a-view-versus-a-copy\n",
      "  \n",
      "/usr/local/anaconda3/lib/python3.7/site-packages/ipykernel_launcher.py:3: SettingWithCopyWarning: \n",
      "A value is trying to be set on a copy of a slice from a DataFrame.\n",
      "Try using .loc[row_indexer,col_indexer] = value instead\n",
      "\n",
      "See the caveats in the documentation: https://pandas.pydata.org/pandas-docs/stable/user_guide/indexing.html#returning-a-view-versus-a-copy\n",
      "  This is separate from the ipykernel package so we can avoid doing imports until\n",
      "/usr/local/anaconda3/lib/python3.7/site-packages/ipykernel_launcher.py:4: SettingWithCopyWarning: \n",
      "A value is trying to be set on a copy of a slice from a DataFrame.\n",
      "Try using .loc[row_indexer,col_indexer] = value instead\n",
      "\n",
      "See the caveats in the documentation: https://pandas.pydata.org/pandas-docs/stable/user_guide/indexing.html#returning-a-view-versus-a-copy\n",
      "  after removing the cwd from sys.path.\n",
      "/usr/local/anaconda3/lib/python3.7/site-packages/ipykernel_launcher.py:5: SettingWithCopyWarning: \n",
      "A value is trying to be set on a copy of a slice from a DataFrame.\n",
      "Try using .loc[row_indexer,col_indexer] = value instead\n",
      "\n",
      "See the caveats in the documentation: https://pandas.pydata.org/pandas-docs/stable/user_guide/indexing.html#returning-a-view-versus-a-copy\n",
      "  \"\"\"\n",
      "/usr/local/anaconda3/lib/python3.7/site-packages/ipykernel_launcher.py:6: SettingWithCopyWarning: \n",
      "A value is trying to be set on a copy of a slice from a DataFrame.\n",
      "Try using .loc[row_indexer,col_indexer] = value instead\n",
      "\n",
      "See the caveats in the documentation: https://pandas.pydata.org/pandas-docs/stable/user_guide/indexing.html#returning-a-view-versus-a-copy\n",
      "  \n"
     ]
    },
    {
     "data": {
      "text/html": [
       "<div>\n",
       "<style scoped>\n",
       "    .dataframe tbody tr th:only-of-type {\n",
       "        vertical-align: middle;\n",
       "    }\n",
       "\n",
       "    .dataframe tbody tr th {\n",
       "        vertical-align: top;\n",
       "    }\n",
       "\n",
       "    .dataframe thead th {\n",
       "        text-align: right;\n",
       "    }\n",
       "</style>\n",
       "<table border=\"1\" class=\"dataframe\">\n",
       "  <thead>\n",
       "    <tr style=\"text-align: right;\">\n",
       "      <th></th>\n",
       "      <th>edu_score</th>\n",
       "      <th>broadband</th>\n",
       "      <th>poverty_percentage_0-17</th>\n",
       "      <th>median_house_income</th>\n",
       "      <th>unemployment_rate</th>\n",
       "      <th>urban1</th>\n",
       "      <th>urban2</th>\n",
       "      <th>urban3</th>\n",
       "      <th>urban4</th>\n",
       "      <th>urban5</th>\n",
       "      <th>urban6</th>\n",
       "    </tr>\n",
       "    <tr>\n",
       "      <th>fips</th>\n",
       "      <th></th>\n",
       "      <th></th>\n",
       "      <th></th>\n",
       "      <th></th>\n",
       "      <th></th>\n",
       "      <th></th>\n",
       "      <th></th>\n",
       "      <th></th>\n",
       "      <th></th>\n",
       "      <th></th>\n",
       "      <th></th>\n",
       "    </tr>\n",
       "  </thead>\n",
       "  <tbody>\n",
       "    <tr>\n",
       "      <th>1001</th>\n",
       "      <td>2.725</td>\n",
       "      <td>0.703591</td>\n",
       "      <td>19.3</td>\n",
       "      <td>59338.0</td>\n",
       "      <td>2.7</td>\n",
       "      <td>0</td>\n",
       "      <td>0</td>\n",
       "      <td>1</td>\n",
       "      <td>0</td>\n",
       "      <td>0</td>\n",
       "      <td>0</td>\n",
       "    </tr>\n",
       "    <tr>\n",
       "      <th>1003</th>\n",
       "      <td>2.840</td>\n",
       "      <td>0.771106</td>\n",
       "      <td>13.9</td>\n",
       "      <td>57588.0</td>\n",
       "      <td>2.7</td>\n",
       "      <td>0</td>\n",
       "      <td>0</td>\n",
       "      <td>0</td>\n",
       "      <td>1</td>\n",
       "      <td>0</td>\n",
       "      <td>0</td>\n",
       "    </tr>\n",
       "    <tr>\n",
       "      <th>1005</th>\n",
       "      <td>2.225</td>\n",
       "      <td>0.541496</td>\n",
       "      <td>43.9</td>\n",
       "      <td>34382.0</td>\n",
       "      <td>3.8</td>\n",
       "      <td>0</td>\n",
       "      <td>0</td>\n",
       "      <td>0</td>\n",
       "      <td>0</td>\n",
       "      <td>0</td>\n",
       "      <td>1</td>\n",
       "    </tr>\n",
       "    <tr>\n",
       "      <th>1007</th>\n",
       "      <td>2.306</td>\n",
       "      <td>0.633871</td>\n",
       "      <td>27.8</td>\n",
       "      <td>46064.0</td>\n",
       "      <td>3.1</td>\n",
       "      <td>0</td>\n",
       "      <td>1</td>\n",
       "      <td>0</td>\n",
       "      <td>0</td>\n",
       "      <td>0</td>\n",
       "      <td>0</td>\n",
       "    </tr>\n",
       "    <tr>\n",
       "      <th>1009</th>\n",
       "      <td>2.387</td>\n",
       "      <td>0.635847</td>\n",
       "      <td>18.0</td>\n",
       "      <td>50412.0</td>\n",
       "      <td>2.7</td>\n",
       "      <td>0</td>\n",
       "      <td>1</td>\n",
       "      <td>0</td>\n",
       "      <td>0</td>\n",
       "      <td>0</td>\n",
       "      <td>0</td>\n",
       "    </tr>\n",
       "  </tbody>\n",
       "</table>\n",
       "</div>"
      ],
      "text/plain": [
       "      edu_score  broadband  poverty_percentage_0-17  median_house_income  \\\n",
       "fips                                                                       \n",
       "1001      2.725   0.703591                     19.3              59338.0   \n",
       "1003      2.840   0.771106                     13.9              57588.0   \n",
       "1005      2.225   0.541496                     43.9              34382.0   \n",
       "1007      2.306   0.633871                     27.8              46064.0   \n",
       "1009      2.387   0.635847                     18.0              50412.0   \n",
       "\n",
       "      unemployment_rate  urban1  urban2  urban3  urban4  urban5  urban6  \n",
       "fips                                                                     \n",
       "1001                2.7       0       0       1       0       0       0  \n",
       "1003                2.7       0       0       0       1       0       0  \n",
       "1005                3.8       0       0       0       0       0       1  \n",
       "1007                3.1       0       1       0       0       0       0  \n",
       "1009                2.7       0       1       0       0       0       0  "
      ]
     },
     "execution_count": 56,
     "metadata": {},
     "output_type": "execute_result"
    }
   ],
   "source": [
    "df_onehot = df[[\"edu_score\", \"broadband\", \"poverty_percentage_0-17\", \"median_house_income\", \"unemployment_rate\"]]\n",
    "df_onehot[\"urban1\"] = df.apply(lambda x: 1 if x.urbanization_class == 1 else 0, axis = 1)\n",
    "df_onehot[\"urban2\"] = df.apply(lambda x: 1 if x.urbanization_class == 2 else 0, axis = 1)\n",
    "df_onehot[\"urban3\"] = df.apply(lambda x: 1 if x.urbanization_class == 3 else 0, axis = 1)\n",
    "df_onehot[\"urban4\"] = df.apply(lambda x: 1 if x.urbanization_class == 4 else 0, axis = 1)\n",
    "df_onehot[\"urban5\"] = df.apply(lambda x: 1 if x.urbanization_class == 5 else 0, axis = 1)\n",
    "df_onehot[\"urban6\"] = df.apply(lambda x: 1 if x.urbanization_class == 6 else 0, axis = 1)\n",
    "df_onehot.head()"
   ]
  },
  {
   "cell_type": "code",
   "execution_count": 57,
   "metadata": {},
   "outputs": [],
   "source": [
    "#Saving this notebook real quick\n",
    "df_onehot.to_csv(\"../data/dataframe_onehot.csv\", index=True)"
   ]
  },
  {
   "cell_type": "markdown",
   "metadata": {},
   "source": [
    "Let's now turn this into a numpy array, scale it, and perform PCA"
   ]
  },
  {
   "cell_type": "code",
   "execution_count": 58,
   "metadata": {},
   "outputs": [],
   "source": [
    "df_as_np = df_onehot.to_numpy()"
   ]
  },
  {
   "cell_type": "code",
   "execution_count": 63,
   "metadata": {},
   "outputs": [
    {
     "data": {
      "text/plain": [
       "array([[ 0.49523668,  0.36210401, -0.20371822, ..., -0.35899981,\n",
       "        -0.50778335, -0.85637042],\n",
       "       [ 0.96736362,  1.0014006 , -0.81241802, ...,  2.78551676,\n",
       "        -0.50778335, -0.85637042],\n",
       "       [-1.55748914, -1.17277129,  2.56924754, ..., -0.35899981,\n",
       "        -0.50778335,  1.16771899],\n",
       "       ...,\n",
       "       [ 0.00668793,  0.53156963, -1.01531796, ..., -0.35899981,\n",
       "         1.96934383, -0.85637042],\n",
       "       [ 0.39670584,  0.35627552, -0.56442922, ..., -0.35899981,\n",
       "        -0.50778335,  1.16771899],\n",
       "       [ 0.31459681, -0.05441226, -0.56442922, ..., -0.35899981,\n",
       "        -0.50778335,  1.16771899]])"
      ]
     },
     "execution_count": 63,
     "metadata": {},
     "output_type": "execute_result"
    }
   ],
   "source": [
    "#data scaling\n",
    "scaler = StandardScaler().fit(df_as_np)\n",
    "X_scaled = scaler.fit_transform(df_as_np)"
   ]
  },
  {
   "cell_type": "code",
   "execution_count": 62,
   "metadata": {},
   "outputs": [],
   "source": [
    "#PCA\n",
    "pca = PCA(n_components=2).fit(X_scaled)"
   ]
  },
  {
   "cell_type": "markdown",
   "metadata": {},
   "source": [
    "We can view some quantitative things such as explained variance ratio"
   ]
  },
  {
   "cell_type": "code",
   "execution_count": 64,
   "metadata": {},
   "outputs": [
    {
     "data": {
      "text/plain": [
       "array([3.78602244, 1.42257638])"
      ]
     },
     "execution_count": 64,
     "metadata": {},
     "output_type": "execute_result"
    }
   ],
   "source": [
    "pca.explained_variance_"
   ]
  },
  {
   "cell_type": "code",
   "execution_count": 65,
   "metadata": {},
   "outputs": [
    {
     "data": {
      "text/plain": [
       "array([0.34407379, 0.12928377])"
      ]
     },
     "execution_count": 65,
     "metadata": {},
     "output_type": "execute_result"
    }
   ],
   "source": [
    "pca.explained_variance_ratio_"
   ]
  },
  {
   "cell_type": "code",
   "execution_count": 75,
   "metadata": {},
   "outputs": [
    {
     "data": {
      "text/plain": [
       "array([[ 0.4255136 ,  0.42626446, -0.42964192,  0.4626993 , -0.27402393,\n",
       "         0.09860711,  0.25027825,  0.09814306,  0.06896979, -0.03113189,\n",
       "        -0.27521665],\n",
       "       [-0.05517746,  0.10267618,  0.14760235, -0.11299398,  0.2166282 ,\n",
       "         0.01755867, -0.14811891,  0.16924054,  0.19094876,  0.62514512,\n",
       "        -0.653279  ]])"
      ]
     },
     "execution_count": 75,
     "metadata": {},
     "output_type": "execute_result"
    }
   ],
   "source": [
    "pca.components_"
   ]
  },
  {
   "cell_type": "markdown",
   "metadata": {},
   "source": [
    "We have a fairly low explained variance ratio here which does indicate to some extent that we're going to want to factor in most of these features during regression. Our main goal however is to see a plot of the fit transform of the data on 2 principal components"
   ]
  },
  {
   "cell_type": "code",
   "execution_count": 72,
   "metadata": {},
   "outputs": [],
   "source": [
    "X_2 = pca.fit_transform(X_scaled)"
   ]
  },
  {
   "cell_type": "code",
   "execution_count": 73,
   "metadata": {},
   "outputs": [
    {
     "data": {
      "text/plain": [
       "<matplotlib.collections.PathCollection at 0x7ffb78d7afd0>"
      ]
     },
     "execution_count": 73,
     "metadata": {},
     "output_type": "execute_result"
    },
    {
     "data": {
      "image/png": "[encoded data removed]",
      "text/plain": [
       "<Figure size 432x288 with 1 Axes>"
      ]
     },
     "metadata": {
      "needs_background": "light"
     },
     "output_type": "display_data"
    }
   ],
   "source": [
    "plt.scatter(X_2[:, 0], X_2[:, 1])"
   ]
  },
  {
   "cell_type": "code",
   "execution_count": 74,
   "metadata": {},
   "outputs": [
    {
     "data": {
      "text/plain": [
       "<matplotlib.collections.PathCollection at 0x7ffb78d22240>"
      ]
     },
     "execution_count": 74,
     "metadata": {},
     "output_type": "execute_result"
    },
    {
     "data": {
      "image/png": "[encoded data removed]",
      "text/plain": [
       "<Figure size 432x288 with 1 Axes>"
      ]
     },
     "metadata": {
      "needs_background": "light"
     },
     "output_type": "display_data"
    }
   ],
   "source": [
    "plt.scatter(X_2[:, 0], X_2[:, 1], c=max_edu_class,cmap=matplotlib.colors.ListedColormap(colors))"
   ]
  },
  {
   "cell_type": "code",
   "execution_count": 76,
   "metadata": {},
   "outputs": [
    {
     "data": {
      "text/plain": [
       "<matplotlib.collections.PathCollection at 0x7ffb78c864a8>"
      ]
     },
     "execution_count": 76,
     "metadata": {},
     "output_type": "execute_result"
    },
    {
     "data": {
      "image/png": "[encoded data removed]",
      "text/plain": [
       "<Figure size 432x288 with 1 Axes>"
      ]
     },
     "metadata": {
      "needs_background": "light"
     },
     "output_type": "display_data"
    }
   ],
   "source": [
    "plt.scatter(X_2[:, 0], X_2[:, 1], c=urbanization_list, cmap=matplotlib.colors.ListedColormap(urbanization_colors))"
   ]
  },
  {
   "cell_type": "markdown",
   "metadata": {},
   "source": [
    "A fairly interesting thing to see in the end. The principal components vary in ways that don't account for a large amount of the data variance but still the direction of the first principal component shows a positive correlation to educational attainment while the direction of the second shows negative correlation to educational attainment."
   ]
  }
 ],
 "metadata": {
  "kernelspec": {
   "display_name": "Python 3",
   "language": "python",
   "name": "python3"
  },
  "language_info": {
   "codemirror_mode": {
    "name": "ipython",
    "version": 3
   },
   "file_extension": ".py",
   "mimetype": "text/x-python",
   "name": "python",
   "nbconvert_exporter": "python",
   "pygments_lexer": "ipython3",
   "version": "3.7.3"
  }
 },
 "nbformat": 4,
 "nbformat_minor": 2
}
