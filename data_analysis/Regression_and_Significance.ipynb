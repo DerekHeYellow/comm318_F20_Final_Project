{
 "cells": [
  {
   "cell_type": "markdown",
   "metadata": {},
   "source": [
    "# Regression and Significance\n",
    "If the data looks like such what will that say about educational performance and how confident are we of that"
   ]
  },
  {
   "cell_type": "markdown",
   "metadata": {},
   "source": [
    "## Imports"
   ]
  },
  {
   "cell_type": "code",
   "execution_count": 14,
   "metadata": {},
   "outputs": [],
   "source": [
    "import pandas as pd\n",
    "import numpy as np\n",
    "import statsmodels.api as sm\n",
    "\n",
    "from sklearn.linear_model import LinearRegression"
   ]
  },
  {
   "cell_type": "markdown",
   "metadata": {},
   "source": [
    "## Data Loading"
   ]
  },
  {
   "cell_type": "code",
   "execution_count": 3,
   "metadata": {},
   "outputs": [],
   "source": [
    "df = pd.read_csv(\"../data/dataframe.csv\").dropna()\n",
    "fips = pd.read_csv(\"../data/fips.csv\")\n",
    "df_onehot = pd.read_csv(\"../data/dataframe_onehot.csv\")"
   ]
  },
  {
   "cell_type": "markdown",
   "metadata": {},
   "source": [
    "## Regressions\n",
    "Various regressions and corresponding summaries"
   ]
  },
  {
   "cell_type": "markdown",
   "metadata": {},
   "source": [
    "### Dataset Label Split"
   ]
  },
  {
   "cell_type": "code",
   "execution_count": 23,
   "metadata": {},
   "outputs": [],
   "source": [
    "X_broadband = df_onehot[[\"broadband\"]]\n",
    "X = df_onehot[[\"broadband\", \"poverty_percentage_0-17\", \"median_house_income\", \"unemployment_rate\", \"urban1\", \"urban2\", \"urban3\", \"urban4\", \"urban5\", \"urban6\"]]\n",
    "y = df_onehot[\"edu_score\"]"
   ]
  },
  {
   "cell_type": "markdown",
   "metadata": {},
   "source": [
    "### Regression of only broadband percentage against education score"
   ]
  },
  {
   "cell_type": "code",
   "execution_count": 24,
   "metadata": {},
   "outputs": [],
   "source": [
    "X_broadband_const = sm.add_constant(X_broadband)\n",
    "reg_broadband = sm.OLS(y, X_broadband_const).fit()"
   ]
  },
  {
   "cell_type": "code",
   "execution_count": 25,
   "metadata": {},
   "outputs": [
    {
     "data": {
      "text/html": [
       "<table class=\"simpletable\">\n",
       "<caption>OLS Regression Results</caption>\n",
       "<tr>\n",
       "  <th>Dep. Variable:</th>        <td>edu_score</td>    <th>  R-squared:         </th> <td>   0.420</td>\n",
       "</tr>\n",
       "<tr>\n",
       "  <th>Model:</th>                   <td>OLS</td>       <th>  Adj. R-squared:    </th> <td>   0.420</td>\n",
       "</tr>\n",
       "<tr>\n",
       "  <th>Method:</th>             <td>Least Squares</td>  <th>  F-statistic:       </th> <td>   2264.</td>\n",
       "</tr>\n",
       "<tr>\n",
       "  <th>Date:</th>             <td>Tue, 22 Dec 2020</td> <th>  Prob (F-statistic):</th>  <td>  0.00</td> \n",
       "</tr>\n",
       "<tr>\n",
       "  <th>Time:</th>                 <td>07:58:12</td>     <th>  Log-Likelihood:    </th> <td>  831.34</td>\n",
       "</tr>\n",
       "<tr>\n",
       "  <th>No. Observations:</th>      <td>  3127</td>      <th>  AIC:               </th> <td>  -1659.</td>\n",
       "</tr>\n",
       "<tr>\n",
       "  <th>Df Residuals:</th>          <td>  3125</td>      <th>  BIC:               </th> <td>  -1647.</td>\n",
       "</tr>\n",
       "<tr>\n",
       "  <th>Df Model:</th>              <td>     1</td>      <th>                     </th>     <td> </td>   \n",
       "</tr>\n",
       "<tr>\n",
       "  <th>Covariance Type:</th>      <td>nonrobust</td>    <th>                     </th>     <td> </td>   \n",
       "</tr>\n",
       "</table>\n",
       "<table class=\"simpletable\">\n",
       "<tr>\n",
       "      <td></td>         <th>coef</th>     <th>std err</th>      <th>t</th>      <th>P>|t|</th>  <th>[0.025</th>    <th>0.975]</th>  \n",
       "</tr>\n",
       "<tr>\n",
       "  <th>const</th>     <td>    1.6097</td> <td>    0.021</td> <td>   76.051</td> <td> 0.000</td> <td>    1.568</td> <td>    1.651</td>\n",
       "</tr>\n",
       "<tr>\n",
       "  <th>broadband</th> <td>    1.4950</td> <td>    0.031</td> <td>   47.584</td> <td> 0.000</td> <td>    1.433</td> <td>    1.557</td>\n",
       "</tr>\n",
       "</table>\n",
       "<table class=\"simpletable\">\n",
       "<tr>\n",
       "  <th>Omnibus:</th>       <td>207.885</td> <th>  Durbin-Watson:     </th> <td>   1.455</td>\n",
       "</tr>\n",
       "<tr>\n",
       "  <th>Prob(Omnibus):</th> <td> 0.000</td>  <th>  Jarque-Bera (JB):  </th> <td> 328.299</td>\n",
       "</tr>\n",
       "<tr>\n",
       "  <th>Skew:</th>          <td> 0.529</td>  <th>  Prob(JB):          </th> <td>5.14e-72</td>\n",
       "</tr>\n",
       "<tr>\n",
       "  <th>Kurtosis:</th>      <td> 4.183</td>  <th>  Cond. No.          </th> <td>    13.7</td>\n",
       "</tr>\n",
       "</table><br/><br/>Notes:<br/>[1] Standard Errors assume that the covariance matrix of the errors is correctly specified."
      ],
      "text/plain": [
       "<class 'statsmodels.iolib.summary.Summary'>\n",
       "\"\"\"\n",
       "                            OLS Regression Results                            \n",
       "==============================================================================\n",
       "Dep. Variable:              edu_score   R-squared:                       0.420\n",
       "Model:                            OLS   Adj. R-squared:                  0.420\n",
       "Method:                 Least Squares   F-statistic:                     2264.\n",
       "Date:                Tue, 22 Dec 2020   Prob (F-statistic):               0.00\n",
       "Time:                        07:58:12   Log-Likelihood:                 831.34\n",
       "No. Observations:                3127   AIC:                            -1659.\n",
       "Df Residuals:                    3125   BIC:                            -1647.\n",
       "Df Model:                           1                                         \n",
       "Covariance Type:            nonrobust                                         \n",
       "==============================================================================\n",
       "                 coef    std err          t      P>|t|      [0.025      0.975]\n",
       "------------------------------------------------------------------------------\n",
       "const          1.6097      0.021     76.051      0.000       1.568       1.651\n",
       "broadband      1.4950      0.031     47.584      0.000       1.433       1.557\n",
       "==============================================================================\n",
       "Omnibus:                      207.885   Durbin-Watson:                   1.455\n",
       "Prob(Omnibus):                  0.000   Jarque-Bera (JB):              328.299\n",
       "Skew:                           0.529   Prob(JB):                     5.14e-72\n",
       "Kurtosis:                       4.183   Cond. No.                         13.7\n",
       "==============================================================================\n",
       "\n",
       "Notes:\n",
       "[1] Standard Errors assume that the covariance matrix of the errors is correctly specified.\n",
       "\"\"\""
      ]
     },
     "execution_count": 25,
     "metadata": {},
     "output_type": "execute_result"
    }
   ],
   "source": [
    "reg_broadband.summary()"
   ]
  },
  {
   "cell_type": "markdown",
   "metadata": {},
   "source": [
    "### Full Regression to check other significant statistics"
   ]
  },
  {
   "cell_type": "code",
   "execution_count": 26,
   "metadata": {},
   "outputs": [],
   "source": [
    "X_const = sm.add_constant(X)\n",
    "reg = sm.OLS(y, X_const).fit()"
   ]
  },
  {
   "cell_type": "code",
   "execution_count": 27,
   "metadata": {},
   "outputs": [
    {
     "data": {
      "text/html": [
       "<table class=\"simpletable\">\n",
       "<caption>OLS Regression Results</caption>\n",
       "<tr>\n",
       "  <th>Dep. Variable:</th>        <td>edu_score</td>    <th>  R-squared:         </th> <td>   0.599</td>\n",
       "</tr>\n",
       "<tr>\n",
       "  <th>Model:</th>                   <td>OLS</td>       <th>  Adj. R-squared:    </th> <td>   0.598</td>\n",
       "</tr>\n",
       "<tr>\n",
       "  <th>Method:</th>             <td>Least Squares</td>  <th>  F-statistic:       </th> <td>   518.1</td>\n",
       "</tr>\n",
       "<tr>\n",
       "  <th>Date:</th>             <td>Tue, 22 Dec 2020</td> <th>  Prob (F-statistic):</th>  <td>  0.00</td> \n",
       "</tr>\n",
       "<tr>\n",
       "  <th>Time:</th>                 <td>07:58:25</td>     <th>  Log-Likelihood:    </th> <td>  1409.3</td>\n",
       "</tr>\n",
       "<tr>\n",
       "  <th>No. Observations:</th>      <td>  3127</td>      <th>  AIC:               </th> <td>  -2799.</td>\n",
       "</tr>\n",
       "<tr>\n",
       "  <th>Df Residuals:</th>          <td>  3117</td>      <th>  BIC:               </th> <td>  -2738.</td>\n",
       "</tr>\n",
       "<tr>\n",
       "  <th>Df Model:</th>              <td>     9</td>      <th>                     </th>     <td> </td>   \n",
       "</tr>\n",
       "<tr>\n",
       "  <th>Covariance Type:</th>      <td>nonrobust</td>    <th>                     </th>     <td> </td>   \n",
       "</tr>\n",
       "</table>\n",
       "<table class=\"simpletable\">\n",
       "<tr>\n",
       "             <td></td>                <th>coef</th>     <th>std err</th>      <th>t</th>      <th>P>|t|</th>  <th>[0.025</th>    <th>0.975]</th>  \n",
       "</tr>\n",
       "<tr>\n",
       "  <th>const</th>                   <td>    1.6960</td> <td>    0.034</td> <td>   49.300</td> <td> 0.000</td> <td>    1.629</td> <td>    1.763</td>\n",
       "</tr>\n",
       "<tr>\n",
       "  <th>broadband</th>               <td>    0.6661</td> <td>    0.040</td> <td>   16.635</td> <td> 0.000</td> <td>    0.588</td> <td>    0.745</td>\n",
       "</tr>\n",
       "<tr>\n",
       "  <th>poverty_percentage_0-17</th> <td>   -0.0054</td> <td>    0.001</td> <td>   -9.356</td> <td> 0.000</td> <td>   -0.007</td> <td>   -0.004</td>\n",
       "</tr>\n",
       "<tr>\n",
       "  <th>median_house_income</th>     <td> 6.622e-06</td> <td>    4e-07</td> <td>   16.559</td> <td> 0.000</td> <td> 5.84e-06</td> <td> 7.41e-06</td>\n",
       "</tr>\n",
       "<tr>\n",
       "  <th>unemployment_rate</th>       <td>   -0.0110</td> <td>    0.002</td> <td>   -4.872</td> <td> 0.000</td> <td>   -0.015</td> <td>   -0.007</td>\n",
       "</tr>\n",
       "<tr>\n",
       "  <th>urban1</th>                  <td>    0.3648</td> <td>    0.020</td> <td>   18.706</td> <td> 0.000</td> <td>    0.327</td> <td>    0.403</td>\n",
       "</tr>\n",
       "<tr>\n",
       "  <th>urban2</th>                  <td>    0.2067</td> <td>    0.011</td> <td>   18.556</td> <td> 0.000</td> <td>    0.185</td> <td>    0.229</td>\n",
       "</tr>\n",
       "<tr>\n",
       "  <th>urban3</th>                  <td>    0.2774</td> <td>    0.010</td> <td>   29.105</td> <td> 0.000</td> <td>    0.259</td> <td>    0.296</td>\n",
       "</tr>\n",
       "<tr>\n",
       "  <th>urban4</th>                  <td>    0.2847</td> <td>    0.009</td> <td>   30.796</td> <td> 0.000</td> <td>    0.267</td> <td>    0.303</td>\n",
       "</tr>\n",
       "<tr>\n",
       "  <th>urban5</th>                  <td>    0.2816</td> <td>    0.007</td> <td>   39.284</td> <td> 0.000</td> <td>    0.268</td> <td>    0.296</td>\n",
       "</tr>\n",
       "<tr>\n",
       "  <th>urban6</th>                  <td>    0.2807</td> <td>    0.006</td> <td>   47.710</td> <td> 0.000</td> <td>    0.269</td> <td>    0.292</td>\n",
       "</tr>\n",
       "</table>\n",
       "<table class=\"simpletable\">\n",
       "<tr>\n",
       "  <th>Omnibus:</th>       <td>119.158</td> <th>  Durbin-Watson:     </th> <td>   1.604</td>\n",
       "</tr>\n",
       "<tr>\n",
       "  <th>Prob(Omnibus):</th> <td> 0.000</td>  <th>  Jarque-Bera (JB):  </th> <td> 263.040</td>\n",
       "</tr>\n",
       "<tr>\n",
       "  <th>Skew:</th>          <td> 0.231</td>  <th>  Prob(JB):          </th> <td>7.61e-58</td>\n",
       "</tr>\n",
       "<tr>\n",
       "  <th>Kurtosis:</th>      <td> 4.344</td>  <th>  Cond. No.          </th> <td>7.16e+20</td>\n",
       "</tr>\n",
       "</table><br/><br/>Notes:<br/>[1] Standard Errors assume that the covariance matrix of the errors is correctly specified.<br/>[2] The smallest eigenvalue is 1.82e-29. This might indicate that there are<br/>strong multicollinearity problems or that the design matrix is singular."
      ],
      "text/plain": [
       "<class 'statsmodels.iolib.summary.Summary'>\n",
       "\"\"\"\n",
       "                            OLS Regression Results                            \n",
       "==============================================================================\n",
       "Dep. Variable:              edu_score   R-squared:                       0.599\n",
       "Model:                            OLS   Adj. R-squared:                  0.598\n",
       "Method:                 Least Squares   F-statistic:                     518.1\n",
       "Date:                Tue, 22 Dec 2020   Prob (F-statistic):               0.00\n",
       "Time:                        07:58:25   Log-Likelihood:                 1409.3\n",
       "No. Observations:                3127   AIC:                            -2799.\n",
       "Df Residuals:                    3117   BIC:                            -2738.\n",
       "Df Model:                           9                                         \n",
       "Covariance Type:            nonrobust                                         \n",
       "===========================================================================================\n",
       "                              coef    std err          t      P>|t|      [0.025      0.975]\n",
       "-------------------------------------------------------------------------------------------\n",
       "const                       1.6960      0.034     49.300      0.000       1.629       1.763\n",
       "broadband                   0.6661      0.040     16.635      0.000       0.588       0.745\n",
       "poverty_percentage_0-17    -0.0054      0.001     -9.356      0.000      -0.007      -0.004\n",
       "median_house_income      6.622e-06      4e-07     16.559      0.000    5.84e-06    7.41e-06\n",
       "unemployment_rate          -0.0110      0.002     -4.872      0.000      -0.015      -0.007\n",
       "urban1                      0.3648      0.020     18.706      0.000       0.327       0.403\n",
       "urban2                      0.2067      0.011     18.556      0.000       0.185       0.229\n",
       "urban3                      0.2774      0.010     29.105      0.000       0.259       0.296\n",
       "urban4                      0.2847      0.009     30.796      0.000       0.267       0.303\n",
       "urban5                      0.2816      0.007     39.284      0.000       0.268       0.296\n",
       "urban6                      0.2807      0.006     47.710      0.000       0.269       0.292\n",
       "==============================================================================\n",
       "Omnibus:                      119.158   Durbin-Watson:                   1.604\n",
       "Prob(Omnibus):                  0.000   Jarque-Bera (JB):              263.040\n",
       "Skew:                           0.231   Prob(JB):                     7.61e-58\n",
       "Kurtosis:                       4.344   Cond. No.                     7.16e+20\n",
       "==============================================================================\n",
       "\n",
       "Notes:\n",
       "[1] Standard Errors assume that the covariance matrix of the errors is correctly specified.\n",
       "[2] The smallest eigenvalue is 1.82e-29. This might indicate that there are\n",
       "strong multicollinearity problems or that the design matrix is singular.\n",
       "\"\"\""
      ]
     },
     "execution_count": 27,
     "metadata": {},
     "output_type": "execute_result"
    }
   ],
   "source": [
    "reg.summary()"
   ]
  }
 ],
 "metadata": {
  "kernelspec": {
   "display_name": "Python 3",
   "language": "python",
   "name": "python3"
  },
  "language_info": {
   "codemirror_mode": {
    "name": "ipython",
    "version": 3
   },
   "file_extension": ".py",
   "mimetype": "text/x-python",
   "name": "python",
   "nbconvert_exporter": "python",
   "pygments_lexer": "ipython3",
   "version": "3.7.3"
  }
 },
 "nbformat": 4,
 "nbformat_minor": 2
}
