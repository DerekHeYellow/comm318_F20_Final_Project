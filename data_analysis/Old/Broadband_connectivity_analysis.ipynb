{
 "cells": [
  {
   "cell_type": "code",
   "execution_count": 1,
   "metadata": {},
   "outputs": [],
   "source": [
    "import pandas as pd\n",
    "import matplotlib"
   ]
  },
  {
   "cell_type": "markdown",
   "metadata": {},
   "source": [
    "First we'll import the data and and just look at some of its attributes"
   ]
  },
  {
   "cell_type": "code",
   "execution_count": 2,
   "metadata": {},
   "outputs": [
    {
     "name": "stdout",
     "output_type": "stream",
     "text": [
      "(59527, 6)\n"
     ]
    },
    {
     "data": {
      "text/html": [
       "<div>\n",
       "<style scoped>\n",
       "    .dataframe tbody tr th:only-of-type {\n",
       "        vertical-align: middle;\n",
       "    }\n",
       "\n",
       "    .dataframe tbody tr th {\n",
       "        vertical-align: top;\n",
       "    }\n",
       "\n",
       "    .dataframe thead th {\n",
       "        text-align: right;\n",
       "    }\n",
       "</style>\n",
       "<table border=\"1\" class=\"dataframe\">\n",
       "  <thead>\n",
       "    <tr style=\"text-align: right;\">\n",
       "      <th></th>\n",
       "      <th>statenam</th>\n",
       "      <th>county</th>\n",
       "      <th>year</th>\n",
       "      <th>id</th>\n",
       "      <th>broadband</th>\n",
       "      <th>cfips</th>\n",
       "    </tr>\n",
       "  </thead>\n",
       "  <tbody>\n",
       "    <tr>\n",
       "      <th>113</th>\n",
       "      <td>Alabama</td>\n",
       "      <td>Bullock County</td>\n",
       "      <td>2018</td>\n",
       "      <td>0500000US01011</td>\n",
       "      <td>0.589000</td>\n",
       "      <td>1011</td>\n",
       "    </tr>\n",
       "    <tr>\n",
       "      <th>56390</th>\n",
       "      <td>Washington</td>\n",
       "      <td>Okanogan County</td>\n",
       "      <td>2017</td>\n",
       "      <td>0500000US53047</td>\n",
       "      <td>0.431095</td>\n",
       "      <td>53047</td>\n",
       "    </tr>\n",
       "    <tr>\n",
       "      <th>12600</th>\n",
       "      <td>Illinois</td>\n",
       "      <td>Piatt County</td>\n",
       "      <td>2003</td>\n",
       "      <td>0500000US17147</td>\n",
       "      <td>NaN</td>\n",
       "      <td>17147</td>\n",
       "    </tr>\n",
       "    <tr>\n",
       "      <th>56718</th>\n",
       "      <td>West Virginia</td>\n",
       "      <td>Boone County</td>\n",
       "      <td>2003</td>\n",
       "      <td>0500000US54005</td>\n",
       "      <td>NaN</td>\n",
       "      <td>54005</td>\n",
       "    </tr>\n",
       "    <tr>\n",
       "      <th>48282</th>\n",
       "      <td>Texas</td>\n",
       "      <td>Burleson County</td>\n",
       "      <td>2003</td>\n",
       "      <td>0500000US48051</td>\n",
       "      <td>NaN</td>\n",
       "      <td>48051</td>\n",
       "    </tr>\n",
       "    <tr>\n",
       "      <th>4475</th>\n",
       "      <td>California</td>\n",
       "      <td>Tehama County</td>\n",
       "      <td>2010</td>\n",
       "      <td>0500000US06103</td>\n",
       "      <td>NaN</td>\n",
       "      <td>6103</td>\n",
       "    </tr>\n",
       "    <tr>\n",
       "      <th>6536</th>\n",
       "      <td>Florida</td>\n",
       "      <td>Hillsborough County</td>\n",
       "      <td>2000</td>\n",
       "      <td>0500000US12057</td>\n",
       "      <td>0.079695</td>\n",
       "      <td>12057</td>\n",
       "    </tr>\n",
       "    <tr>\n",
       "      <th>3292</th>\n",
       "      <td>Arkansas</td>\n",
       "      <td>Sebastian County</td>\n",
       "      <td>2005</td>\n",
       "      <td>0500000US05131</td>\n",
       "      <td>NaN</td>\n",
       "      <td>5131</td>\n",
       "    </tr>\n",
       "    <tr>\n",
       "      <th>35107</th>\n",
       "      <td>New York</td>\n",
       "      <td>Livingston County</td>\n",
       "      <td>2014</td>\n",
       "      <td>0500000US36051</td>\n",
       "      <td>0.789125</td>\n",
       "      <td>36051</td>\n",
       "    </tr>\n",
       "    <tr>\n",
       "      <th>24330</th>\n",
       "      <td>Michigan</td>\n",
       "      <td>Menominee County</td>\n",
       "      <td>2010</td>\n",
       "      <td>0500000US26109</td>\n",
       "      <td>NaN</td>\n",
       "      <td>26109</td>\n",
       "    </tr>\n",
       "  </tbody>\n",
       "</table>\n",
       "</div>"
      ],
      "text/plain": [
       "            statenam               county  year              id  broadband  \\\n",
       "113          Alabama       Bullock County  2018  0500000US01011   0.589000   \n",
       "56390     Washington      Okanogan County  2017  0500000US53047   0.431095   \n",
       "12600       Illinois         Piatt County  2003  0500000US17147        NaN   \n",
       "56718  West Virginia         Boone County  2003  0500000US54005        NaN   \n",
       "48282          Texas      Burleson County  2003  0500000US48051        NaN   \n",
       "4475      California        Tehama County  2010  0500000US06103        NaN   \n",
       "6536         Florida  Hillsborough County  2000  0500000US12057   0.079695   \n",
       "3292        Arkansas     Sebastian County  2005  0500000US05131        NaN   \n",
       "35107       New York    Livingston County  2014  0500000US36051   0.789125   \n",
       "24330       Michigan     Menominee County  2010  0500000US26109        NaN   \n",
       "\n",
       "       cfips  \n",
       "113     1011  \n",
       "56390  53047  \n",
       "12600  17147  \n",
       "56718  54005  \n",
       "48282  48051  \n",
       "4475    6103  \n",
       "6536   12057  \n",
       "3292    5131  \n",
       "35107  36051  \n",
       "24330  26109  "
      ]
     },
     "execution_count": 2,
     "metadata": {},
     "output_type": "execute_result"
    }
   ],
   "source": [
    "df = pd.read_csv(\"../data/county_broadband_adoption.csv\")\n",
    "print(df.shape)\n",
    "df.sample(10)"
   ]
  },
  {
   "cell_type": "markdown",
   "metadata": {},
   "source": [
    "There are 59527 rows where each row represents a county of a state in a certain year and the broadband adoption percentage of that county in that year. A cleaner dataframe would be as such."
   ]
  },
  {
   "cell_type": "code",
   "execution_count": 3,
   "metadata": {},
   "outputs": [
    {
     "data": {
      "text/html": [
       "<div>\n",
       "<style scoped>\n",
       "    .dataframe tbody tr th:only-of-type {\n",
       "        vertical-align: middle;\n",
       "    }\n",
       "\n",
       "    .dataframe tbody tr th {\n",
       "        vertical-align: top;\n",
       "    }\n",
       "\n",
       "    .dataframe thead th {\n",
       "        text-align: right;\n",
       "    }\n",
       "</style>\n",
       "<table border=\"1\" class=\"dataframe\">\n",
       "  <thead>\n",
       "    <tr style=\"text-align: right;\">\n",
       "      <th></th>\n",
       "      <th>state</th>\n",
       "      <th>county</th>\n",
       "      <th>year</th>\n",
       "      <th>adoption_pct</th>\n",
       "    </tr>\n",
       "  </thead>\n",
       "  <tbody>\n",
       "    <tr>\n",
       "      <th>17</th>\n",
       "      <td>Alabama</td>\n",
       "      <td>Autauga County</td>\n",
       "      <td>2017</td>\n",
       "      <td>0.618182</td>\n",
       "    </tr>\n",
       "    <tr>\n",
       "      <th>18</th>\n",
       "      <td>Alabama</td>\n",
       "      <td>Autauga County</td>\n",
       "      <td>2018</td>\n",
       "      <td>0.789000</td>\n",
       "    </tr>\n",
       "    <tr>\n",
       "      <th>26</th>\n",
       "      <td>Alabama</td>\n",
       "      <td>Baldwin County</td>\n",
       "      <td>2007</td>\n",
       "      <td>0.588521</td>\n",
       "    </tr>\n",
       "    <tr>\n",
       "      <th>27</th>\n",
       "      <td>Alabama</td>\n",
       "      <td>Baldwin County</td>\n",
       "      <td>2008</td>\n",
       "      <td>0.591518</td>\n",
       "    </tr>\n",
       "    <tr>\n",
       "      <th>28</th>\n",
       "      <td>Alabama</td>\n",
       "      <td>Baldwin County</td>\n",
       "      <td>2009</td>\n",
       "      <td>0.594515</td>\n",
       "    </tr>\n",
       "    <tr>\n",
       "      <th>29</th>\n",
       "      <td>Alabama</td>\n",
       "      <td>Baldwin County</td>\n",
       "      <td>2010</td>\n",
       "      <td>0.730085</td>\n",
       "    </tr>\n",
       "    <tr>\n",
       "      <th>30</th>\n",
       "      <td>Alabama</td>\n",
       "      <td>Baldwin County</td>\n",
       "      <td>2011</td>\n",
       "      <td>0.743012</td>\n",
       "    </tr>\n",
       "    <tr>\n",
       "      <th>31</th>\n",
       "      <td>Alabama</td>\n",
       "      <td>Baldwin County</td>\n",
       "      <td>2012</td>\n",
       "      <td>0.819295</td>\n",
       "    </tr>\n",
       "    <tr>\n",
       "      <th>32</th>\n",
       "      <td>Alabama</td>\n",
       "      <td>Baldwin County</td>\n",
       "      <td>2013</td>\n",
       "      <td>0.718728</td>\n",
       "    </tr>\n",
       "    <tr>\n",
       "      <th>33</th>\n",
       "      <td>Alabama</td>\n",
       "      <td>Baldwin County</td>\n",
       "      <td>2014</td>\n",
       "      <td>0.747387</td>\n",
       "    </tr>\n",
       "    <tr>\n",
       "      <th>34</th>\n",
       "      <td>Alabama</td>\n",
       "      <td>Baldwin County</td>\n",
       "      <td>2015</td>\n",
       "      <td>0.734921</td>\n",
       "    </tr>\n",
       "    <tr>\n",
       "      <th>35</th>\n",
       "      <td>Alabama</td>\n",
       "      <td>Baldwin County</td>\n",
       "      <td>2016</td>\n",
       "      <td>0.771539</td>\n",
       "    </tr>\n",
       "    <tr>\n",
       "      <th>36</th>\n",
       "      <td>Alabama</td>\n",
       "      <td>Baldwin County</td>\n",
       "      <td>2017</td>\n",
       "      <td>0.820682</td>\n",
       "    </tr>\n",
       "    <tr>\n",
       "      <th>37</th>\n",
       "      <td>Alabama</td>\n",
       "      <td>Baldwin County</td>\n",
       "      <td>2018</td>\n",
       "      <td>0.781000</td>\n",
       "    </tr>\n",
       "    <tr>\n",
       "      <th>55</th>\n",
       "      <td>Alabama</td>\n",
       "      <td>Barbour County</td>\n",
       "      <td>2017</td>\n",
       "      <td>0.478992</td>\n",
       "    </tr>\n",
       "    <tr>\n",
       "      <th>56</th>\n",
       "      <td>Alabama</td>\n",
       "      <td>Barbour County</td>\n",
       "      <td>2018</td>\n",
       "      <td>0.604000</td>\n",
       "    </tr>\n",
       "    <tr>\n",
       "      <th>74</th>\n",
       "      <td>Alabama</td>\n",
       "      <td>Bibb County</td>\n",
       "      <td>2017</td>\n",
       "      <td>0.606742</td>\n",
       "    </tr>\n",
       "    <tr>\n",
       "      <th>75</th>\n",
       "      <td>Alabama</td>\n",
       "      <td>Bibb County</td>\n",
       "      <td>2018</td>\n",
       "      <td>0.661000</td>\n",
       "    </tr>\n",
       "    <tr>\n",
       "      <th>93</th>\n",
       "      <td>Alabama</td>\n",
       "      <td>Blount County</td>\n",
       "      <td>2017</td>\n",
       "      <td>0.586694</td>\n",
       "    </tr>\n",
       "    <tr>\n",
       "      <th>94</th>\n",
       "      <td>Alabama</td>\n",
       "      <td>Blount County</td>\n",
       "      <td>2018</td>\n",
       "      <td>0.685000</td>\n",
       "    </tr>\n",
       "  </tbody>\n",
       "</table>\n",
       "</div>"
      ],
      "text/plain": [
       "      state          county  year  adoption_pct\n",
       "17  Alabama  Autauga County  2017      0.618182\n",
       "18  Alabama  Autauga County  2018      0.789000\n",
       "26  Alabama  Baldwin County  2007      0.588521\n",
       "27  Alabama  Baldwin County  2008      0.591518\n",
       "28  Alabama  Baldwin County  2009      0.594515\n",
       "29  Alabama  Baldwin County  2010      0.730085\n",
       "30  Alabama  Baldwin County  2011      0.743012\n",
       "31  Alabama  Baldwin County  2012      0.819295\n",
       "32  Alabama  Baldwin County  2013      0.718728\n",
       "33  Alabama  Baldwin County  2014      0.747387\n",
       "34  Alabama  Baldwin County  2015      0.734921\n",
       "35  Alabama  Baldwin County  2016      0.771539\n",
       "36  Alabama  Baldwin County  2017      0.820682\n",
       "37  Alabama  Baldwin County  2018      0.781000\n",
       "55  Alabama  Barbour County  2017      0.478992\n",
       "56  Alabama  Barbour County  2018      0.604000\n",
       "74  Alabama     Bibb County  2017      0.606742\n",
       "75  Alabama     Bibb County  2018      0.661000\n",
       "93  Alabama   Blount County  2017      0.586694\n",
       "94  Alabama   Blount County  2018      0.685000"
      ]
     },
     "execution_count": 3,
     "metadata": {},
     "output_type": "execute_result"
    }
   ],
   "source": [
    "columns = {\n",
    "    \"statenam\": \"state\",\n",
    "    \"broadband\": \"adoption_pct\"\n",
    "}\n",
    "df2 = df[[\"statenam\", \"county\", \"year\", \"broadband\"]].dropna().rename(columns=columns)\n",
    "df2.head(20)"
   ]
  },
  {
   "cell_type": "code",
   "execution_count": 4,
   "metadata": {},
   "outputs": [
    {
     "data": {
      "text/plain": [
       "<matplotlib.axes._subplots.AxesSubplot at 0x7f522ed4f198>"
      ]
     },
     "execution_count": 4,
     "metadata": {},
     "output_type": "execute_result"
    }
   ],
   "source": [
    "meanstatepct2018 = df2[df2[\"year\"] == 2018].groupby([\"state\"]).mean()\n",
    "meanstatepct2018.plot.bar(y=\"adoption_pct\", rot=0)"
   ]
  },
  {
   "cell_type": "code",
   "execution_count": 5,
   "metadata": {},
   "outputs": [
    {
     "data": {
      "text/html": [
       "<div>\n",
       "<style scoped>\n",
       "    .dataframe tbody tr th:only-of-type {\n",
       "        vertical-align: middle;\n",
       "    }\n",
       "\n",
       "    .dataframe tbody tr th {\n",
       "        vertical-align: top;\n",
       "    }\n",
       "\n",
       "    .dataframe thead th {\n",
       "        text-align: right;\n",
       "    }\n",
       "</style>\n",
       "<table border=\"1\" class=\"dataframe\">\n",
       "  <thead>\n",
       "    <tr style=\"text-align: right;\">\n",
       "      <th></th>\n",
       "      <th>year</th>\n",
       "      <th>adoption_pct</th>\n",
       "    </tr>\n",
       "    <tr>\n",
       "      <th>state</th>\n",
       "      <th></th>\n",
       "      <th></th>\n",
       "    </tr>\n",
       "  </thead>\n",
       "  <tbody>\n",
       "    <tr>\n",
       "      <th>Mississippi</th>\n",
       "      <td>2018</td>\n",
       "      <td>0.611183</td>\n",
       "    </tr>\n",
       "    <tr>\n",
       "      <th>New Mexico</th>\n",
       "      <td>2018</td>\n",
       "      <td>0.638667</td>\n",
       "    </tr>\n",
       "    <tr>\n",
       "      <th>Arkansas</th>\n",
       "      <td>2018</td>\n",
       "      <td>0.641640</td>\n",
       "    </tr>\n",
       "    <tr>\n",
       "      <th>Alabama</th>\n",
       "      <td>2018</td>\n",
       "      <td>0.657627</td>\n",
       "    </tr>\n",
       "    <tr>\n",
       "      <th>Louisiana</th>\n",
       "      <td>2018</td>\n",
       "      <td>0.658609</td>\n",
       "    </tr>\n",
       "  </tbody>\n",
       "</table>\n",
       "</div>"
      ],
      "text/plain": [
       "             year  adoption_pct\n",
       "state                          \n",
       "Mississippi  2018      0.611183\n",
       "New Mexico   2018      0.638667\n",
       "Arkansas     2018      0.641640\n",
       "Alabama      2018      0.657627\n",
       "Louisiana    2018      0.658609"
      ]
     },
     "execution_count": 5,
     "metadata": {},
     "output_type": "execute_result"
    }
   ],
   "source": [
    "meanstatepct2018sorted = meanstatepct2018.sort_values(by=\"adoption_pct\")\n",
    "meanstatepct2018sorted.head(5)"
   ]
  },
  {
   "cell_type": "code",
   "execution_count": 6,
   "metadata": {},
   "outputs": [
    {
     "data": {
      "text/html": [
       "<div>\n",
       "<style scoped>\n",
       "    .dataframe tbody tr th:only-of-type {\n",
       "        vertical-align: middle;\n",
       "    }\n",
       "\n",
       "    .dataframe tbody tr th {\n",
       "        vertical-align: top;\n",
       "    }\n",
       "\n",
       "    .dataframe thead th {\n",
       "        text-align: right;\n",
       "    }\n",
       "</style>\n",
       "<table border=\"1\" class=\"dataframe\">\n",
       "  <thead>\n",
       "    <tr style=\"text-align: right;\">\n",
       "      <th></th>\n",
       "      <th>year</th>\n",
       "      <th>adoption_pct</th>\n",
       "    </tr>\n",
       "    <tr>\n",
       "      <th>state</th>\n",
       "      <th></th>\n",
       "      <th></th>\n",
       "    </tr>\n",
       "  </thead>\n",
       "  <tbody>\n",
       "    <tr>\n",
       "      <th>New Hampshire</th>\n",
       "      <td>2018</td>\n",
       "      <td>0.835800</td>\n",
       "    </tr>\n",
       "    <tr>\n",
       "      <th>New Jersey</th>\n",
       "      <td>2018</td>\n",
       "      <td>0.837429</td>\n",
       "    </tr>\n",
       "    <tr>\n",
       "      <th>Massachusetts</th>\n",
       "      <td>2018</td>\n",
       "      <td>0.838429</td>\n",
       "    </tr>\n",
       "    <tr>\n",
       "      <th>Rhode Island</th>\n",
       "      <td>2018</td>\n",
       "      <td>0.838600</td>\n",
       "    </tr>\n",
       "    <tr>\n",
       "      <th>Connecticut</th>\n",
       "      <td>2018</td>\n",
       "      <td>0.841250</td>\n",
       "    </tr>\n",
       "  </tbody>\n",
       "</table>\n",
       "</div>"
      ],
      "text/plain": [
       "               year  adoption_pct\n",
       "state                            \n",
       "New Hampshire  2018      0.835800\n",
       "New Jersey     2018      0.837429\n",
       "Massachusetts  2018      0.838429\n",
       "Rhode Island   2018      0.838600\n",
       "Connecticut    2018      0.841250"
      ]
     },
     "execution_count": 6,
     "metadata": {},
     "output_type": "execute_result"
    }
   ],
   "source": [
    "meanstatepct2018sorted.tail(5)"
   ]
  },
  {
   "cell_type": "markdown",
   "metadata": {},
   "source": [
    "There's an overall increasing trend of internet adoption over all counties. We can try to run a regression analysis if we can find similarly grained data regarding education statistics by county. However, we can try to utilize trends by counties and states to also tell stories if similarly grained data cannot be found."
   ]
  },
  {
   "cell_type": "markdown",
   "metadata": {},
   "source": [
    "# FB\n",
    "\n",
    "* Add some more of the basic descriptives,\n",
    "    * how many years\n",
    "    * how many counties \n",
    "   \n",
    "* And make some observations on these.\n",
    "\n",
    "\n",
    "* But from the connectivity standpoint this looks like great data as one of the core elements for your analysis. Does educational achievement data exist of the same time period and at the same county level?"
   ]
  },
  {
   "cell_type": "code",
   "execution_count": 7,
   "metadata": {},
   "outputs": [
    {
     "data": {
      "text/plain": [
       "array([2000, 2001, 2002, 2003, 2004, 2005, 2006, 2007, 2008, 2009, 2010,\n",
       "       2011, 2012, 2013, 2014, 2015, 2016, 2017, 2018])"
      ]
     },
     "execution_count": 7,
     "metadata": {},
     "output_type": "execute_result"
    }
   ],
   "source": [
    "df['year'].unique()"
   ]
  },
  {
   "cell_type": "code",
   "execution_count": 8,
   "metadata": {},
   "outputs": [
    {
     "data": {
      "text/plain": [
       "19"
      ]
     },
     "execution_count": 8,
     "metadata": {},
     "output_type": "execute_result"
    }
   ],
   "source": [
    "df['year'].nunique()"
   ]
  },
  {
   "cell_type": "markdown",
   "metadata": {},
   "source": [
    "* So max is 19 years of data for each county"
   ]
  },
  {
   "cell_type": "code",
   "execution_count": 9,
   "metadata": {},
   "outputs": [
    {
     "data": {
      "text/plain": [
       "1867"
      ]
     },
     "execution_count": 9,
     "metadata": {},
     "output_type": "execute_result"
    }
   ],
   "source": [
    "df['county'].nunique()"
   ]
  },
  {
   "cell_type": "code",
   "execution_count": 12,
   "metadata": {},
   "outputs": [
    {
     "data": {
      "text/plain": [
       "35473"
      ]
     },
     "execution_count": 12,
     "metadata": {},
     "output_type": "execute_result"
    }
   ],
   "source": [
    "1867*19"
   ]
  },
  {
   "cell_type": "code",
   "execution_count": 14,
   "metadata": {},
   "outputs": [
    {
     "data": {
      "text/plain": [
       "59527"
      ]
     },
     "execution_count": 14,
     "metadata": {},
     "output_type": "execute_result"
    }
   ],
   "source": [
    "df.shape[0]"
   ]
  },
  {
   "cell_type": "markdown",
   "metadata": {},
   "source": [
    "* Why more rows in df that counties multiplied by the number of years?"
   ]
  },
  {
   "cell_type": "code",
   "execution_count": 16,
   "metadata": {
    "scrolled": true
   },
   "outputs": [
    {
     "data": {
      "text/plain": [
       "county\n",
       "Washington County    570\n",
       "Jefferson County     475\n",
       "Franklin County      456\n",
       "Lincoln County       437\n",
       "Jackson County       437\n",
       "Madison County       361\n",
       "Clay County          342\n",
       "Montgomery County    342\n",
       "Marion County        323\n",
       "Monroe County        323\n",
       "Union County         323\n",
       "Wayne County         304\n",
       "Warren County        266\n",
       "Grant County         266\n",
       "Greene County        266\n",
       "Carroll County       247\n",
       "Douglas County       228\n",
       "Marshall County      228\n",
       "Polk County          228\n",
       "Johnson County       228\n",
       "dtype: int64"
      ]
     },
     "execution_count": 16,
     "metadata": {},
     "output_type": "execute_result"
    }
   ],
   "source": [
    "df.groupby('county').size().sort_values(ascending=False).head(20)"
   ]
  },
  {
   "cell_type": "markdown",
   "metadata": {},
   "source": [
    "* So it looks like `county` is not the smallest unit in this data?\n",
    "\n",
    "* So need to aggregate up to `county` level or look at the `fips` or `id` columns you dropped.\n"
   ]
  },
  {
   "cell_type": "code",
   "execution_count": null,
   "metadata": {},
   "outputs": [],
   "source": []
  }
 ],
 "metadata": {
  "kernelspec": {
   "display_name": "Python 3",
   "language": "python",
   "name": "python3"
  },
  "language_info": {
   "codemirror_mode": {
    "name": "ipython",
    "version": 3
   },
   "file_extension": ".py",
   "mimetype": "text/x-python",
   "name": "python",
   "nbconvert_exporter": "python",
   "pygments_lexer": "ipython3",
   "version": "3.7.3"
  }
 },
 "nbformat": 4,
 "nbformat_minor": 2
}
