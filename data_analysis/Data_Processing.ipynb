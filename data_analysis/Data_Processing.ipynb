{
 "cells": [
  {
   "cell_type": "markdown",
   "metadata": {},
   "source": [
    "# Data Processing Notebook\n",
    "Notebook for the cleaning and merging of dataframes from csv files for the intention of loading to one csv"
   ]
  },
  {
   "cell_type": "code",
   "execution_count": 1,
   "metadata": {},
   "outputs": [],
   "source": [
    "#imports\n",
    "import pandas as pd"
   ]
  },
  {
   "cell_type": "markdown",
   "metadata": {},
   "source": [
    "## Dataset Loading"
   ]
  },
  {
   "cell_type": "code",
   "execution_count": 19,
   "metadata": {},
   "outputs": [],
   "source": [
    "#Load in all datasets\n",
    "edu = pd.read_csv(\"../data/raw/Education.csv\", encoding='latin-1')\n",
    "conn = pd.read_csv(\"../data/raw/county_broadband_adoption.csv\", encoding='utf-8')\n",
    "pov = pd.read_csv(\"../data/raw/poverty_estimates.csv\", encoding='latin-1')\n",
    "unem = pd.read_csv(\"../data/raw/unemployment.csv\", encoding='latin-1', thousands=',')\n",
    "urban = pd.read_csv(\"../data/raw/urban_rural_classification.csv\", encoding='utf-8')"
   ]
  },
  {
   "cell_type": "markdown",
   "metadata": {},
   "source": [
    "## Dataset Cleaning"
   ]
  },
  {
   "cell_type": "markdown",
   "metadata": {},
   "source": [
    "### Education Dataset\n",
    "The main dataset we want for classification, labeling, and response. Mainly cleaned out less useful metrics and used percentages from years 2014-2018 as that's the more relevant time period."
   ]
  },
  {
   "cell_type": "code",
   "execution_count": 6,
   "metadata": {},
   "outputs": [
    {
     "data": {
      "text/html": [
       "<div>\n",
       "<style scoped>\n",
       "    .dataframe tbody tr th:only-of-type {\n",
       "        vertical-align: middle;\n",
       "    }\n",
       "\n",
       "    .dataframe tbody tr th {\n",
       "        vertical-align: top;\n",
       "    }\n",
       "\n",
       "    .dataframe thead th {\n",
       "        text-align: right;\n",
       "    }\n",
       "</style>\n",
       "<table border=\"1\" class=\"dataframe\">\n",
       "  <thead>\n",
       "    <tr style=\"text-align: right;\">\n",
       "      <th></th>\n",
       "      <th>perc_less_highschool</th>\n",
       "      <th>perc_highschool</th>\n",
       "      <th>perc_some_college</th>\n",
       "      <th>perc_college</th>\n",
       "    </tr>\n",
       "    <tr>\n",
       "      <th>fips</th>\n",
       "      <th></th>\n",
       "      <th></th>\n",
       "      <th></th>\n",
       "      <th></th>\n",
       "    </tr>\n",
       "  </thead>\n",
       "  <tbody>\n",
       "    <tr>\n",
       "      <th>1000</th>\n",
       "      <td>14.2</td>\n",
       "      <td>30.9</td>\n",
       "      <td>29.9</td>\n",
       "      <td>24.9</td>\n",
       "    </tr>\n",
       "    <tr>\n",
       "      <th>1001</th>\n",
       "      <td>11.3</td>\n",
       "      <td>32.6</td>\n",
       "      <td>28.4</td>\n",
       "      <td>27.7</td>\n",
       "    </tr>\n",
       "    <tr>\n",
       "      <th>1003</th>\n",
       "      <td>9.7</td>\n",
       "      <td>27.6</td>\n",
       "      <td>31.3</td>\n",
       "      <td>31.3</td>\n",
       "    </tr>\n",
       "    <tr>\n",
       "      <th>1005</th>\n",
       "      <td>27.0</td>\n",
       "      <td>35.7</td>\n",
       "      <td>25.1</td>\n",
       "      <td>12.2</td>\n",
       "    </tr>\n",
       "    <tr>\n",
       "      <th>1007</th>\n",
       "      <td>16.8</td>\n",
       "      <td>47.3</td>\n",
       "      <td>24.4</td>\n",
       "      <td>11.5</td>\n",
       "    </tr>\n",
       "  </tbody>\n",
       "</table>\n",
       "</div>"
      ],
      "text/plain": [
       "      perc_less_highschool  perc_highschool  perc_some_college  perc_college\n",
       "fips                                                                        \n",
       "1000                  14.2             30.9               29.9          24.9\n",
       "1001                  11.3             32.6               28.4          27.7\n",
       "1003                   9.7             27.6               31.3          31.3\n",
       "1005                  27.0             35.7               25.1          12.2\n",
       "1007                  16.8             47.3               24.4          11.5"
      ]
     },
     "execution_count": 6,
     "metadata": {},
     "output_type": "execute_result"
    }
   ],
   "source": [
    "edu_cleaned = edu.rename(columns={\n",
    "    \"FIPS Code\": \"fips\",\n",
    "    \"Percent of adults with less than a high school diploma, 2014-18\": \"perc_less_highschool\",\n",
    "    \"Percent of adults with a high school diploma only, 2014-18\": \"perc_highschool\",\n",
    "    \"Percent of adults completing some college or associate's degree, 2014-18\": \"perc_some_college\",\n",
    "    \"Percent of adults with a bachelor's degree or higher, 2014-18\": \"perc_college\"\n",
    "})\n",
    "edu_cleaned = edu_cleaned.set_index('fips')\n",
    "edu_cleaned = edu_cleaned.drop([0])\n",
    "edu_cleaned = edu_cleaned[[\"perc_less_highschool\", \"perc_highschool\", \"perc_some_college\", \"perc_college\"]]\n",
    "edu_cleaned.head()"
   ]
  },
  {
   "cell_type": "markdown",
   "metadata": {},
   "source": [
    "### Internet Connectivity Dataset\n",
    "This gives broadband adoption data as a percentage over the past 2 decades. We're going to utilize an average of the span of 2014-2018 since the other datasets are formatted in such a manner."
   ]
  },
  {
   "cell_type": "code",
   "execution_count": 8,
   "metadata": {},
   "outputs": [],
   "source": [
    "#Index Setting\n",
    "conn_cleaned = conn.rename(columns={\"cfips\": \"fips\"})\n",
    "conn_cleaned = conn_cleaned.set_index(\"fips\")"
   ]
  },
  {
   "cell_type": "code",
   "execution_count": 10,
   "metadata": {},
   "outputs": [
    {
     "data": {
      "text/html": [
       "<div>\n",
       "<style scoped>\n",
       "    .dataframe tbody tr th:only-of-type {\n",
       "        vertical-align: middle;\n",
       "    }\n",
       "\n",
       "    .dataframe tbody tr th {\n",
       "        vertical-align: top;\n",
       "    }\n",
       "\n",
       "    .dataframe thead th {\n",
       "        text-align: right;\n",
       "    }\n",
       "</style>\n",
       "<table border=\"1\" class=\"dataframe\">\n",
       "  <thead>\n",
       "    <tr style=\"text-align: right;\">\n",
       "      <th></th>\n",
       "      <th>broadband</th>\n",
       "    </tr>\n",
       "    <tr>\n",
       "      <th>fips</th>\n",
       "      <th></th>\n",
       "    </tr>\n",
       "  </thead>\n",
       "  <tbody>\n",
       "    <tr>\n",
       "      <th>1001</th>\n",
       "      <td>0.703591</td>\n",
       "    </tr>\n",
       "    <tr>\n",
       "      <th>1003</th>\n",
       "      <td>0.771106</td>\n",
       "    </tr>\n",
       "    <tr>\n",
       "      <th>1005</th>\n",
       "      <td>0.541496</td>\n",
       "    </tr>\n",
       "    <tr>\n",
       "      <th>1007</th>\n",
       "      <td>0.633871</td>\n",
       "    </tr>\n",
       "    <tr>\n",
       "      <th>1009</th>\n",
       "      <td>0.635847</td>\n",
       "    </tr>\n",
       "  </tbody>\n",
       "</table>\n",
       "</div>"
      ],
      "text/plain": [
       "      broadband\n",
       "fips           \n",
       "1001   0.703591\n",
       "1003   0.771106\n",
       "1005   0.541496\n",
       "1007   0.633871\n",
       "1009   0.635847"
      ]
     },
     "execution_count": 10,
     "metadata": {},
     "output_type": "execute_result"
    }
   ],
   "source": [
    "conn_cleaned = conn_cleaned[conn_cleaned[\"year\"] >= 2014]\n",
    "conn_cleaned = conn_cleaned[conn_cleaned[\"year\"] <= 2018]\n",
    "conn_cleaned = conn_cleaned.groupby([\"fips\"]).mean()\n",
    "conn_cleaned = conn_cleaned[[\"broadband\"]]\n",
    "conn_cleaned.head()"
   ]
  },
  {
   "cell_type": "markdown",
   "metadata": {},
   "source": [
    "### Unemployment and Income\n",
    "A confounding variable we'd want to check for. We take the unemployment and median house income from 2018 by county fips code"
   ]
  },
  {
   "cell_type": "code",
   "execution_count": 11,
   "metadata": {},
   "outputs": [
    {
     "data": {
      "text/html": [
       "<div>\n",
       "<style scoped>\n",
       "    .dataframe tbody tr th:only-of-type {\n",
       "        vertical-align: middle;\n",
       "    }\n",
       "\n",
       "    .dataframe tbody tr th {\n",
       "        vertical-align: top;\n",
       "    }\n",
       "\n",
       "    .dataframe thead th {\n",
       "        text-align: right;\n",
       "    }\n",
       "</style>\n",
       "<table border=\"1\" class=\"dataframe\">\n",
       "  <thead>\n",
       "    <tr style=\"text-align: right;\">\n",
       "      <th></th>\n",
       "      <th>unemployment_rate</th>\n",
       "      <th>median_house_income</th>\n",
       "    </tr>\n",
       "    <tr>\n",
       "      <th>fips</th>\n",
       "      <th></th>\n",
       "      <th></th>\n",
       "    </tr>\n",
       "  </thead>\n",
       "  <tbody>\n",
       "    <tr>\n",
       "      <th>1000</th>\n",
       "      <td>3.0</td>\n",
       "      <td>49881.0</td>\n",
       "    </tr>\n",
       "    <tr>\n",
       "      <th>1001</th>\n",
       "      <td>2.7</td>\n",
       "      <td>59338.0</td>\n",
       "    </tr>\n",
       "    <tr>\n",
       "      <th>1003</th>\n",
       "      <td>2.7</td>\n",
       "      <td>57588.0</td>\n",
       "    </tr>\n",
       "    <tr>\n",
       "      <th>1005</th>\n",
       "      <td>3.8</td>\n",
       "      <td>34382.0</td>\n",
       "    </tr>\n",
       "    <tr>\n",
       "      <th>1007</th>\n",
       "      <td>3.1</td>\n",
       "      <td>46064.0</td>\n",
       "    </tr>\n",
       "  </tbody>\n",
       "</table>\n",
       "</div>"
      ],
      "text/plain": [
       "      unemployment_rate  median_house_income\n",
       "fips                                        \n",
       "1000                3.0              49881.0\n",
       "1001                2.7              59338.0\n",
       "1003                2.7              57588.0\n",
       "1005                3.8              34382.0\n",
       "1007                3.1              46064.0"
      ]
     },
     "execution_count": 11,
     "metadata": {},
     "output_type": "execute_result"
    }
   ],
   "source": [
    "unem_cleaned = unem.rename(columns={\n",
    "    \"FIPStxt\": \"fips\",\n",
    "    \"Unemployment_rate_2019\": \"unemployment_rate\",\n",
    "    \"Median_Household_Income_2018\": \"median_house_income\"\n",
    "})\n",
    "unem_cleaned = unem_cleaned.set_index(\"fips\")\n",
    "unem_cleaned = unem_cleaned.drop([0])\n",
    "unem_cleaned = unem_cleaned[[\"unemployment_rate\", \"median_house_income\"]]\n",
    "unem_cleaned.head()"
   ]
  },
  {
   "cell_type": "markdown",
   "metadata": {},
   "source": [
    "### Urbanization\n",
    "We also want to add urbanization indexes. This is a 1 to 6 classification where is a large central metro and 6 is a non-core rural area."
   ]
  },
  {
   "cell_type": "code",
   "execution_count": 16,
   "metadata": {},
   "outputs": [
    {
     "data": {
      "text/html": [
       "<div>\n",
       "<style scoped>\n",
       "    .dataframe tbody tr th:only-of-type {\n",
       "        vertical-align: middle;\n",
       "    }\n",
       "\n",
       "    .dataframe tbody tr th {\n",
       "        vertical-align: top;\n",
       "    }\n",
       "\n",
       "    .dataframe thead th {\n",
       "        text-align: right;\n",
       "    }\n",
       "</style>\n",
       "<table border=\"1\" class=\"dataframe\">\n",
       "  <thead>\n",
       "    <tr style=\"text-align: right;\">\n",
       "      <th></th>\n",
       "      <th>urbanization_class</th>\n",
       "    </tr>\n",
       "    <tr>\n",
       "      <th>fips</th>\n",
       "      <th></th>\n",
       "    </tr>\n",
       "  </thead>\n",
       "  <tbody>\n",
       "    <tr>\n",
       "      <th>1001</th>\n",
       "      <td>3</td>\n",
       "    </tr>\n",
       "    <tr>\n",
       "      <th>1003</th>\n",
       "      <td>4</td>\n",
       "    </tr>\n",
       "    <tr>\n",
       "      <th>1005</th>\n",
       "      <td>6</td>\n",
       "    </tr>\n",
       "    <tr>\n",
       "      <th>1007</th>\n",
       "      <td>2</td>\n",
       "    </tr>\n",
       "    <tr>\n",
       "      <th>1009</th>\n",
       "      <td>2</td>\n",
       "    </tr>\n",
       "  </tbody>\n",
       "</table>\n",
       "</div>"
      ],
      "text/plain": [
       "      urbanization_class\n",
       "fips                    \n",
       "1001                   3\n",
       "1003                   4\n",
       "1005                   6\n",
       "1007                   2\n",
       "1009                   2"
      ]
     },
     "execution_count": 16,
     "metadata": {},
     "output_type": "execute_result"
    }
   ],
   "source": [
    "urban_cleaned = urban.rename(columns = {\n",
    "    \"2013 code\": \"urbanization_class\",\n",
    "    \"FIPS code\": \"fips\"\n",
    "})\n",
    "urban_cleaned = urban_cleaned.set_index(\"fips\")\n",
    "urban_cleaned = urban_cleaned[[\"urbanization_class\"]]\n",
    "urban_cleaned.head()"
   ]
  },
  {
   "cell_type": "markdown",
   "metadata": {},
   "source": [
    "### Poverty\n",
    "The estimated percentages of people living in poverty could also prove useful."
   ]
  },
  {
   "cell_type": "code",
   "execution_count": 26,
   "metadata": {},
   "outputs": [
    {
     "data": {
      "text/html": [
       "<div>\n",
       "<style scoped>\n",
       "    .dataframe tbody tr th:only-of-type {\n",
       "        vertical-align: middle;\n",
       "    }\n",
       "\n",
       "    .dataframe tbody tr th {\n",
       "        vertical-align: top;\n",
       "    }\n",
       "\n",
       "    .dataframe thead th {\n",
       "        text-align: right;\n",
       "    }\n",
       "</style>\n",
       "<table border=\"1\" class=\"dataframe\">\n",
       "  <thead>\n",
       "    <tr style=\"text-align: right;\">\n",
       "      <th></th>\n",
       "      <th>poverty_percentage</th>\n",
       "      <th>poverty_percentage_0-17</th>\n",
       "    </tr>\n",
       "    <tr>\n",
       "      <th>fips</th>\n",
       "      <th></th>\n",
       "      <th></th>\n",
       "    </tr>\n",
       "  </thead>\n",
       "  <tbody>\n",
       "    <tr>\n",
       "      <th>1000</th>\n",
       "      <td>16.8</td>\n",
       "      <td>23.9</td>\n",
       "    </tr>\n",
       "    <tr>\n",
       "      <th>1001</th>\n",
       "      <td>13.8</td>\n",
       "      <td>19.3</td>\n",
       "    </tr>\n",
       "    <tr>\n",
       "      <th>1003</th>\n",
       "      <td>9.8</td>\n",
       "      <td>13.9</td>\n",
       "    </tr>\n",
       "    <tr>\n",
       "      <th>1005</th>\n",
       "      <td>30.9</td>\n",
       "      <td>43.9</td>\n",
       "    </tr>\n",
       "    <tr>\n",
       "      <th>1007</th>\n",
       "      <td>21.8</td>\n",
       "      <td>27.8</td>\n",
       "    </tr>\n",
       "  </tbody>\n",
       "</table>\n",
       "</div>"
      ],
      "text/plain": [
       "      poverty_percentage  poverty_percentage_0-17\n",
       "fips                                             \n",
       "1000                16.8                     23.9\n",
       "1001                13.8                     19.3\n",
       "1003                 9.8                     13.9\n",
       "1005                30.9                     43.9\n",
       "1007                21.8                     27.8"
      ]
     },
     "execution_count": 26,
     "metadata": {},
     "output_type": "execute_result"
    }
   ],
   "source": [
    "pov_cleaned = pov.rename(columns={\n",
    "    \"FIPStxt\": \"fips\",\n",
    "    \"PCTPOVALL_2018\": \"poverty_percentage\",\n",
    "    \"PCTPOV017_2018\": \"poverty_percentage_0-17\"\n",
    "})\n",
    "pov_cleaned = pov_cleaned.set_index(\"fips\")\n",
    "pov_cleaned = pov_cleaned.drop([0])\n",
    "pov_cleaned = pov_cleaned[[\"poverty_percentage\", \"poverty_percentage_0-17\"]]\n",
    "pov_cleaned.head()"
   ]
  },
  {
   "cell_type": "markdown",
   "metadata": {},
   "source": [
    "## Dataset Merging"
   ]
  },
  {
   "cell_type": "code",
   "execution_count": 28,
   "metadata": {},
   "outputs": [
    {
     "data": {
      "text/html": [
       "<div>\n",
       "<style scoped>\n",
       "    .dataframe tbody tr th:only-of-type {\n",
       "        vertical-align: middle;\n",
       "    }\n",
       "\n",
       "    .dataframe tbody tr th {\n",
       "        vertical-align: top;\n",
       "    }\n",
       "\n",
       "    .dataframe thead th {\n",
       "        text-align: right;\n",
       "    }\n",
       "</style>\n",
       "<table border=\"1\" class=\"dataframe\">\n",
       "  <thead>\n",
       "    <tr style=\"text-align: right;\">\n",
       "      <th></th>\n",
       "      <th>broadband</th>\n",
       "      <th>perc_less_highschool</th>\n",
       "      <th>perc_highschool</th>\n",
       "      <th>perc_some_college</th>\n",
       "      <th>perc_college</th>\n",
       "      <th>unemployment_rate</th>\n",
       "      <th>median_house_income</th>\n",
       "      <th>urbanization_class</th>\n",
       "      <th>poverty_percentage</th>\n",
       "      <th>poverty_percentage_0-17</th>\n",
       "    </tr>\n",
       "    <tr>\n",
       "      <th>fips</th>\n",
       "      <th></th>\n",
       "      <th></th>\n",
       "      <th></th>\n",
       "      <th></th>\n",
       "      <th></th>\n",
       "      <th></th>\n",
       "      <th></th>\n",
       "      <th></th>\n",
       "      <th></th>\n",
       "      <th></th>\n",
       "    </tr>\n",
       "  </thead>\n",
       "  <tbody>\n",
       "    <tr>\n",
       "      <th>1001</th>\n",
       "      <td>0.703591</td>\n",
       "      <td>11.3</td>\n",
       "      <td>32.6</td>\n",
       "      <td>28.4</td>\n",
       "      <td>27.7</td>\n",
       "      <td>2.7</td>\n",
       "      <td>59338.0</td>\n",
       "      <td>3.0</td>\n",
       "      <td>13.8</td>\n",
       "      <td>19.3</td>\n",
       "    </tr>\n",
       "    <tr>\n",
       "      <th>1003</th>\n",
       "      <td>0.771106</td>\n",
       "      <td>9.7</td>\n",
       "      <td>27.6</td>\n",
       "      <td>31.3</td>\n",
       "      <td>31.3</td>\n",
       "      <td>2.7</td>\n",
       "      <td>57588.0</td>\n",
       "      <td>4.0</td>\n",
       "      <td>9.8</td>\n",
       "      <td>13.9</td>\n",
       "    </tr>\n",
       "    <tr>\n",
       "      <th>1005</th>\n",
       "      <td>0.541496</td>\n",
       "      <td>27.0</td>\n",
       "      <td>35.7</td>\n",
       "      <td>25.1</td>\n",
       "      <td>12.2</td>\n",
       "      <td>3.8</td>\n",
       "      <td>34382.0</td>\n",
       "      <td>6.0</td>\n",
       "      <td>30.9</td>\n",
       "      <td>43.9</td>\n",
       "    </tr>\n",
       "    <tr>\n",
       "      <th>1007</th>\n",
       "      <td>0.633871</td>\n",
       "      <td>16.8</td>\n",
       "      <td>47.3</td>\n",
       "      <td>24.4</td>\n",
       "      <td>11.5</td>\n",
       "      <td>3.1</td>\n",
       "      <td>46064.0</td>\n",
       "      <td>2.0</td>\n",
       "      <td>21.8</td>\n",
       "      <td>27.8</td>\n",
       "    </tr>\n",
       "    <tr>\n",
       "      <th>1009</th>\n",
       "      <td>0.635847</td>\n",
       "      <td>19.8</td>\n",
       "      <td>34.0</td>\n",
       "      <td>33.5</td>\n",
       "      <td>12.6</td>\n",
       "      <td>2.7</td>\n",
       "      <td>50412.0</td>\n",
       "      <td>2.0</td>\n",
       "      <td>13.2</td>\n",
       "      <td>18.0</td>\n",
       "    </tr>\n",
       "  </tbody>\n",
       "</table>\n",
       "</div>"
      ],
      "text/plain": [
       "      broadband  perc_less_highschool  perc_highschool  perc_some_college  \\\n",
       "fips                                                                        \n",
       "1001   0.703591                  11.3             32.6               28.4   \n",
       "1003   0.771106                   9.7             27.6               31.3   \n",
       "1005   0.541496                  27.0             35.7               25.1   \n",
       "1007   0.633871                  16.8             47.3               24.4   \n",
       "1009   0.635847                  19.8             34.0               33.5   \n",
       "\n",
       "      perc_college  unemployment_rate  median_house_income  \\\n",
       "fips                                                         \n",
       "1001          27.7                2.7              59338.0   \n",
       "1003          31.3                2.7              57588.0   \n",
       "1005          12.2                3.8              34382.0   \n",
       "1007          11.5                3.1              46064.0   \n",
       "1009          12.6                2.7              50412.0   \n",
       "\n",
       "      urbanization_class  poverty_percentage  poverty_percentage_0-17  \n",
       "fips                                                                   \n",
       "1001                 3.0                13.8                     19.3  \n",
       "1003                 4.0                 9.8                     13.9  \n",
       "1005                 6.0                30.9                     43.9  \n",
       "1007                 2.0                21.8                     27.8  \n",
       "1009                 2.0                13.2                     18.0  "
      ]
     },
     "execution_count": 28,
     "metadata": {},
     "output_type": "execute_result"
    }
   ],
   "source": [
    "df = conn_cleaned.join(edu_cleaned, on=\"fips\")\n",
    "df = df.join(unem_cleaned, on=\"fips\")\n",
    "df = df.join(urban_cleaned, on=\"fips\")\n",
    "df = df.join(pov_cleaned, on=\"fips\")\n",
    "df.head()"
   ]
  },
  {
   "cell_type": "markdown",
   "metadata": {},
   "source": [
    "## Write to CSV"
   ]
  },
  {
   "cell_type": "code",
   "execution_count": 29,
   "metadata": {},
   "outputs": [],
   "source": [
    "df.to_csv(\"../data/dataframe.csv\", index=True)"
   ]
  },
  {
   "cell_type": "markdown",
   "metadata": {},
   "source": [
    "## FIPS\n",
    "I also want an association list of FIPS Code to state and area"
   ]
  },
  {
   "cell_type": "code",
   "execution_count": 35,
   "metadata": {},
   "outputs": [
    {
     "data": {
      "text/html": [
       "<div>\n",
       "<style scoped>\n",
       "    .dataframe tbody tr th:only-of-type {\n",
       "        vertical-align: middle;\n",
       "    }\n",
       "\n",
       "    .dataframe tbody tr th {\n",
       "        vertical-align: top;\n",
       "    }\n",
       "\n",
       "    .dataframe thead th {\n",
       "        text-align: right;\n",
       "    }\n",
       "</style>\n",
       "<table border=\"1\" class=\"dataframe\">\n",
       "  <thead>\n",
       "    <tr style=\"text-align: right;\">\n",
       "      <th></th>\n",
       "      <th>state</th>\n",
       "      <th>area</th>\n",
       "    </tr>\n",
       "    <tr>\n",
       "      <th>fips</th>\n",
       "      <th></th>\n",
       "      <th></th>\n",
       "    </tr>\n",
       "  </thead>\n",
       "  <tbody>\n",
       "    <tr>\n",
       "      <th>1000</th>\n",
       "      <td>AL</td>\n",
       "      <td>Alabama</td>\n",
       "    </tr>\n",
       "    <tr>\n",
       "      <th>1001</th>\n",
       "      <td>AL</td>\n",
       "      <td>Autauga County</td>\n",
       "    </tr>\n",
       "    <tr>\n",
       "      <th>1003</th>\n",
       "      <td>AL</td>\n",
       "      <td>Baldwin County</td>\n",
       "    </tr>\n",
       "    <tr>\n",
       "      <th>1005</th>\n",
       "      <td>AL</td>\n",
       "      <td>Barbour County</td>\n",
       "    </tr>\n",
       "    <tr>\n",
       "      <th>1007</th>\n",
       "      <td>AL</td>\n",
       "      <td>Bibb County</td>\n",
       "    </tr>\n",
       "  </tbody>\n",
       "</table>\n",
       "</div>"
      ],
      "text/plain": [
       "     state            area\n",
       "fips                      \n",
       "1000    AL         Alabama\n",
       "1001    AL  Autauga County\n",
       "1003    AL  Baldwin County\n",
       "1005    AL  Barbour County\n",
       "1007    AL     Bibb County"
      ]
     },
     "execution_count": 35,
     "metadata": {},
     "output_type": "execute_result"
    }
   ],
   "source": [
    "fips = edu.rename(columns={\n",
    "    \"FIPS Code\": \"fips\",\n",
    "    \"State\": \"state\",\n",
    "    \"Area name\": \"area\"\n",
    "})\n",
    "fips = fips.drop([0])\n",
    "fips = fips.set_index('fips')\n",
    "fips = fips[[\"state\", \"area\"]]\n",
    "fips.head()"
   ]
  },
  {
   "cell_type": "code",
   "execution_count": 36,
   "metadata": {},
   "outputs": [],
   "source": [
    "fips.to_csv(\"../data/fips.csv\", index=True)"
   ]
  }
 ],
 "metadata": {
  "kernelspec": {
   "display_name": "Python 3",
   "language": "python",
   "name": "python3"
  },
  "language_info": {
   "codemirror_mode": {
    "name": "ipython",
    "version": 3
   },
   "file_extension": ".py",
   "mimetype": "text/x-python",
   "name": "python",
   "nbconvert_exporter": "python",
   "pygments_lexer": "ipython3",
   "version": "3.7.3"
  }
 },
 "nbformat": 4,
 "nbformat_minor": 2
}
